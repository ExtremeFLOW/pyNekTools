{
 "cells": [
  {
   "cell_type": "markdown",
   "id": "31a94bbd-34ef-404b-a9be-4f3a216a8c3c",
   "metadata": {},
   "source": [
    "# Processing statistics files\n",
    "\n",
    "In this example we show how one can use pynektools to process statistics"
   ]
  },
  {
   "cell_type": "markdown",
   "id": "f9ad6337-6ba4-47c7-b687-0bf119a5b637",
   "metadata": {},
   "source": [
    "#### Import general modules"
   ]
  },
  {
   "cell_type": "code",
   "execution_count": 1,
   "id": "8b4ca2be-46e8-443b-ab44-6d1a60abfec4",
   "metadata": {},
   "outputs": [],
   "source": [
    "# Import required modules\n",
    "from mpi4py import MPI #equivalent to the use of MPI_init() in C\n",
    "import matplotlib.pyplot as plt\n",
    "import numpy as np\n",
    "\n",
    "# Get mpi info\n",
    "comm = MPI.COMM_WORLD\n",
    "\n",
    "# Hide the log for the notebook. Not recommended when running in clusters as it is better you see what happens\n",
    "import os\n",
    "os.environ[\"PYNEKTOOLS_HIDE_LOG\"] = 'true'\n"
   ]
  },
  {
   "cell_type": "markdown",
   "id": "7422d8d8",
   "metadata": {},
   "source": [
    "## Index the files\n",
    "\n",
    "The first step we will do is to index the files that we will use for this example. By indexing we mean that we will gather a json file that will contain all the information of the files we want to process.\n",
    "We do this to ease the process of averaging, since we can easily inspect what are the attributes of the files.\n",
    "\n",
    "In our case we will index statistics files produced from neko, but one could also index other type of files. This only works for nek5000 type of files.\n",
    "\n",
    "you can check the documentation for this. We note that at this stage, it is important to include the time interval in the indexing."
   ]
  },
  {
   "cell_type": "code",
   "execution_count": 2,
   "id": "20debdd3",
   "metadata": {},
   "outputs": [
    {
     "name": "stdout",
     "output_type": "stream",
     "text": [
      "=========================================================================================\n"
     ]
    }
   ],
   "source": [
    "from pynektools.postprocessing.file_indexing import index_files_from_folder\n",
    "\n",
    "index_files_from_folder(comm, folder_path=\"../data/sem_data/statistics/cylinder_rbc_nelv_600/\", run_start_time=200, stat_start_time=200, output_folder=\"./\", file_type=[\"mean_field.fld\", \"stats.fld\"], include_file_contents=True, include_time_interval=True)"
   ]
  },
  {
   "cell_type": "markdown",
   "id": "b8dfc865",
   "metadata": {},
   "source": [
    "Now we have written a file index with the two types of files in the input folder. If you inspect the file, you will see that there is a lot of information regarding the files. We will use this info to average them in time.\n",
    "\n",
    "## Average in time\n",
    "\n",
    "For this, we simply give as inputs the files that we just wrote.\n",
    "\n",
    "In this case, we are choosing the output batch lenght to be a very large number, such that we do not get average batches, but instead we average all the files. The mesh index indicates which is the json index of the files that contain the mesh.\n",
    "\n",
    "You can check more about the arguments of the functions if you inspect them."
   ]
  },
  {
   "cell_type": "code",
   "execution_count": 3,
   "id": "f74e1adf",
   "metadata": {},
   "outputs": [
    {
     "name": "stdout",
     "output_type": "stream",
     "text": [
      "=================================================================================================\n",
      "=================================================================================================\n",
      "=================================================================================================\n",
      "=================================================================================================\n"
     ]
    }
   ],
   "source": [
    "from pynektools.postprocessing.statistics.time_averaging import average_field_files\n",
    "\n",
    "# Average the mean fields\n",
    "average_field_files(comm, field_index_name=\"mean_field_index.json\", output_folder=\"./\", output_name=\"low_order_stats\", output_batch_t_len=50000, mesh_index=\"0\", dtype=np.single, rel_tol=0.05, output_word_size=4, write_mesh=True)\n",
    "\n",
    "# Average the stats fields\n",
    "average_field_files(comm, field_index_name=\"stats_index.json\", output_folder=\"./\", output_name=\"high_order_stats\", output_batch_t_len=50000, mesh_index=\"0\", dtype=np.single, rel_tol=0.05, output_word_size=4, write_mesh=True)"
   ]
  },
  {
   "cell_type": "markdown",
   "id": "a748dc9d",
   "metadata": {},
   "source": [
    "done! now you have obtained some fld files that contain 3D time averaged data in an spectral mesh. With this, you can easily visualize it in paraview or visit.\n",
    "\n",
    "## Interpolate\n",
    "\n",
    "The data for this example corresponds to a simulation on a cylinder. Because of this we would like to interpolate form the spectral element mesh into a cylindrical mesh.\n",
    "\n",
    "You can see example 4.5 to see how this mesh is created. In here, we use the results from that script to interpolate the data.\n",
    "\n",
    "### 1. index the new outputs\n",
    "\n",
    "We will initially index the new outputs just to have a convenient way to know the path of our data."
   ]
  },
  {
   "cell_type": "code",
   "execution_count": 4,
   "id": "faeb5613",
   "metadata": {},
   "outputs": [
    {
     "name": "stdout",
     "output_type": "stream",
     "text": [
      "=========================================================================================\n"
     ]
    }
   ],
   "source": [
    "index_files_from_folder(comm, folder_path=\"./\", output_folder=\"./\", file_type=[\"low_order_stats.fld\", \"high_order_stats.fld\"], include_file_contents=False, include_time_interval=False)"
   ]
  },
  {
   "cell_type": "markdown",
   "id": "1eb2de11",
   "metadata": {},
   "source": [
    "### 2. Use wrapper function to interpolate\n",
    "\n",
    "now that we have indexed, we can use this to interpolate. We will use a wrapper function to interpolate the contents of the files. You can check example 4.6 for more details.\n",
    "\n",
    "For this, we first need to prepare a \"settings\" file"
   ]
  },
  {
   "cell_type": "code",
   "execution_count": 5,
   "id": "a27c3f68",
   "metadata": {},
   "outputs": [],
   "source": [
    "from pynektools.interpolation.wrappers import interpolate_fields_from_disk\n",
    "\n",
    "# Set the inputs for the first set of files\n",
    "query_points_fname = \"../4-interpolation/points.hdf5\"\n",
    "sem_mesh_fname = \"./low_order_stats0.f00000\"\n",
    "interpolated_fields_output_fname = \"./low_order_stats_interpolated.hdf5\"\n",
    "field_interpolation_dictionary = {}\n",
    "field_interpolation_dictionary['input_type'] = \"file_index\"\n",
    "field_interpolation_dictionary['file_index'] = f\"low_order_stats_index.json\"\n",
    "field_interpolation_dictionary['fields_to_interpolate'] = [\"all\"]\n",
    "interpolate_fields_from_disk(comm, query_points_fname, sem_mesh_fname, field_interpolation_dictionary, interpolated_fields_output_fname=interpolated_fields_output_fname)\n",
    "\n",
    "# Set the inputs for the second set of files\n",
    "query_points_fname = \"../4-interpolation/points.hdf5\"\n",
    "sem_mesh_fname = \"./high_order_stats0.f00000\"\n",
    "interpolated_fields_output_fname = \"./high_order_stats_interpolated.hdf5\"\n",
    "field_interpolation_dictionary = {}\n",
    "field_interpolation_dictionary['input_type'] = \"file_index\"\n",
    "field_interpolation_dictionary['file_index'] = f\"high_order_stats_index.json\"\n",
    "field_interpolation_dictionary['fields_to_interpolate'] = [\"all\"]\n",
    "interpolate_fields_from_disk(comm, query_points_fname, sem_mesh_fname, field_interpolation_dictionary, interpolated_fields_output_fname=interpolated_fields_output_fname)"
   ]
  },
  {
   "cell_type": "markdown",
   "id": "7acdbf16",
   "metadata": {},
   "source": [
    "## Visualize the data in the cylindrical mesh\n",
    "\n",
    " We can now load the data and check it out."
   ]
  },
  {
   "cell_type": "code",
   "execution_count": 22,
   "id": "737dc147",
   "metadata": {},
   "outputs": [
    {
     "data": {
      "application/vnd.jupyter.widget-view+json": {
       "model_id": "02aaa1b5c901451783a065fce20acd40",
       "version_major": 2,
       "version_minor": 0
      },
      "text/plain": [
       "Widget(value='<iframe src=\"http://localhost:38363/index.html?ui=P_0x7d14e0d93c10_16&reconnect=auto\" class=\"pyv…"
      ]
     },
     "metadata": {},
     "output_type": "display_data"
    }
   ],
   "source": [
    "import h5py\n",
    "import pyvista as pv\n",
    "\n",
    "# Load the mesh\n",
    "with h5py.File(query_points_fname, 'r') as f:\n",
    "    x = f[\"x\"][:]\n",
    "    y = f[\"y\"][:]\n",
    "    z = f[\"z\"][:]\n",
    "\n",
    "# Load the interpolated data\n",
    "with h5py.File(\"./low_order_stats_interpolated00001.hdf5\", 'r') as f:\n",
    "    u = f[\"u\"][:]\n",
    "    v = f[\"v\"][:]\n",
    "    w = f[\"w\"][:]\n",
    "\n",
    "# Create a structured mesh\n",
    "mesh_1 = pv.StructuredGrid(x, y, z)\n",
    "mesh_1.point_data[\"u\"] = u.ravel(order='F')\n",
    "mesh_1.point_data[\"v\"] = v.ravel(order='F')\n",
    "mesh_1.point_data[\"w\"] = w.ravel(order='F')\n",
    "\n",
    "# Plot\n",
    "pl = pv.Plotter(shape=(1, 3), window_size=[1920,1080]) # Size in pixels\n",
    "pl.add_axes() \n",
    "# plot first row\n",
    "pl.subplot(0, 0)\n",
    "isos = mesh_1.contour(scalars = \"u\", isosurfaces = [-0.007, 0.007])\n",
    "pl.add_mesh(mesh_1.outline(), color=\"k\")\n",
    "pl.add_mesh(isos, opacity=1, cmap=\"coolwarm\")\n",
    "\n",
    "pl.subplot(0, 1)\n",
    "isos = mesh_1.contour(scalars = \"v\", isosurfaces = [-0.007, 0.007])\n",
    "pl.add_mesh(mesh_1.outline(), color=\"k\")\n",
    "pl.add_mesh(isos, opacity=1, cmap=\"coolwarm\")\n",
    "\n",
    "pl.subplot(0, 2)\n",
    "isos = mesh_1.contour(scalars = \"w\", isosurfaces = [-0.015, 0.015])\n",
    "pl.add_mesh(mesh_1.outline(), color=\"k\")\n",
    "pl.add_mesh(isos, opacity=1, cmap=\"coolwarm\")\n",
    "\n",
    "pl.show()"
   ]
  }
 ],
 "metadata": {
  "kernelspec": {
   "display_name": "Python 3 (ipykernel)",
   "language": "python",
   "name": "python3"
  },
  "language_info": {
   "codemirror_mode": {
    "name": "ipython",
    "version": 3
   },
   "file_extension": ".py",
   "mimetype": "text/x-python",
   "name": "python",
   "nbconvert_exporter": "python",
   "pygments_lexer": "ipython3",
   "version": "3.10.14"
  }
 },
 "nbformat": 4,
 "nbformat_minor": 5
}
