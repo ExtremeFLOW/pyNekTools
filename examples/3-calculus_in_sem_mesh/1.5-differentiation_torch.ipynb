{
 "cells": [
  {
   "cell_type": "markdown",
   "id": "31a94bbd-34ef-404b-a9be-4f3a216a8c3c",
   "metadata": {},
   "source": [
    "# Derivation - With pytorch\n",
    "\n",
    "Besides numpy, we also have torch backend for the main types. This means that if you have a GPU, you can use it for the basic operations!\n",
    "\n",
    "Please keep in mind that unfortunately, communication related operations do not happen through the GPUs, but by mpi, therefore one needs to use the numpy versions for those operations. Possible parallel suport in the future for torch directly.\n",
    "\n",
    "#### Import general modules"
   ]
  },
  {
   "cell_type": "code",
   "execution_count": 1,
   "id": "8b4ca2be-46e8-443b-ab44-6d1a60abfec4",
   "metadata": {},
   "outputs": [],
   "source": [
    "# Import required modules\n",
    "from mpi4py import MPI #equivalent to the use of MPI_init() in C\n",
    "import matplotlib.pyplot as plt\n",
    "import numpy as np\n",
    "\n",
    "# Get mpi info\n",
    "comm = MPI.COMM_WORLD"
   ]
  },
  {
   "cell_type": "markdown",
   "id": "1702ba96-7854-4a2f-89d2-7f2b2aaa61b1",
   "metadata": {},
   "source": [
    "#### Import modules from pysemtools"
   ]
  },
  {
   "cell_type": "code",
   "execution_count": 2,
   "id": "09a4efe8-3557-4ff7-850e-0a26c8937bd6",
   "metadata": {},
   "outputs": [],
   "source": [
    "from pysemtools.io.ppymech.neksuite import pynekread\n",
    "from pysemtools.datatypes.msh import Mesh\n",
    "from pysemtools.datatypes.coef import Coef\n",
    "from pysemtools.datatypes.field import FieldRegistry"
   ]
  },
  {
   "cell_type": "markdown",
   "id": "d3bc8b63-258e-46c7-8b59-0116036cd8a3",
   "metadata": {},
   "source": [
    "## Read the data and build objects\n",
    "\n",
    "In this instance, we create connectivity for the mesh object, given that we wish to use direct stiffness summation to reduce discontinuities."
   ]
  },
  {
   "cell_type": "code",
   "execution_count": null,
   "id": "6e428886-3877-4219-90cb-5dd641b7bb0f",
   "metadata": {},
   "outputs": [
    {
     "name": "stdout",
     "output_type": "stream",
     "text": [
      "2025-02-25 23:16:06,043 - Mesh - INFO - Initializing empty Mesh object.\n",
      "2025-02-25 23:16:06,045 - Field - INFO - Initializing empty Field object\n",
      "2025-02-25 23:16:06,046 - pynekread - INFO - Reading file: ../data/mixlay0.f00001\n",
      "2025-02-25 23:16:06,050 - Mesh - INFO - Initializing Mesh object from x,y,z ndarrays.\n",
      "2025-02-25 23:16:06,050 - Mesh - INFO - Initializing common attributes.\n",
      "2025-02-25 23:16:06,051 - Mesh - INFO - Getting vertices\n",
      "2025-02-25 23:16:06,052 - Mesh - INFO - Getting edge centers\n",
      "2025-02-25 23:16:06,055 - Mesh - INFO - Facet centers not available for 2D\n",
      "2025-02-25 23:16:07,059 - Mesh - INFO - Mesh object initialized.\n",
      "2025-02-25 23:16:07,060 - Mesh - INFO - Mesh data is of type: torch.float64\n",
      "2025-02-25 23:16:07,061 - Mesh - INFO - Elapsed time: 1.011047044s\n",
      "2025-02-25 23:16:07,061 - pynekread - INFO - Reading field data\n",
      "2025-02-25 23:16:07,066 - pynekread - INFO - File read\n",
      "2025-02-25 23:16:07,066 - pynekread - INFO - Elapsed time: 1.019858059s\n",
      "2025-02-25 23:16:07,067 - Coef - INFO - Initializing Coef object\n",
      "2025-02-25 23:16:07,067 - Coef - INFO - Getting derivative matrices\n"
     ]
    },
    {
     "ename": "TypeError",
     "evalue": "Cannot interpret 'torch.float64' as a data type",
     "output_type": "error",
     "traceback": [
      "\u001b[0;31m---------------------------------------------------------------------------\u001b[0m",
      "\u001b[0;31mTypeError\u001b[0m                                 Traceback (most recent call last)",
      "Cell \u001b[0;32mIn[3], line 4\u001b[0m\n\u001b[1;32m      2\u001b[0m fld \u001b[38;5;241m=\u001b[39m FieldRegistry(comm)\n\u001b[1;32m      3\u001b[0m pynekread(\u001b[38;5;124m'\u001b[39m\u001b[38;5;124m../data/mixlay0.f00001\u001b[39m\u001b[38;5;124m'\u001b[39m, comm, data_dtype\u001b[38;5;241m=\u001b[39mnp\u001b[38;5;241m.\u001b[39mdouble, msh\u001b[38;5;241m=\u001b[39mmsh, fld\u001b[38;5;241m=\u001b[39mfld)\n\u001b[0;32m----> 4\u001b[0m coef \u001b[38;5;241m=\u001b[39m \u001b[43mCoef\u001b[49m\u001b[43m(\u001b[49m\u001b[43mmsh\u001b[49m\u001b[43m,\u001b[49m\u001b[43m \u001b[49m\u001b[43mcomm\u001b[49m\u001b[43m,\u001b[49m\u001b[43m \u001b[49m\u001b[43mget_area\u001b[49m\u001b[38;5;241;43m=\u001b[39;49m\u001b[38;5;28;43;01mFalse\u001b[39;49;00m\u001b[43m)\u001b[49m\n",
      "File \u001b[0;32m~/software/pySEMTools/pysemtools/datatypes/coef.py:82\u001b[0m, in \u001b[0;36mCoef.__init__\u001b[0;34m(self, msh, comm, get_area, apply_1d_operators)\u001b[0m\n\u001b[1;32m     79\u001b[0m \u001b[38;5;28mself\u001b[39m\u001b[38;5;241m.\u001b[39mdtype \u001b[38;5;241m=\u001b[39m msh\u001b[38;5;241m.\u001b[39mx\u001b[38;5;241m.\u001b[39mdtype\n\u001b[1;32m     80\u001b[0m \u001b[38;5;28mself\u001b[39m\u001b[38;5;241m.\u001b[39mapply_1d_operators \u001b[38;5;241m=\u001b[39m apply_1d_operators\n\u001b[0;32m---> 82\u001b[0m \u001b[38;5;28mself\u001b[39m\u001b[38;5;241m.\u001b[39mv, \u001b[38;5;28mself\u001b[39m\u001b[38;5;241m.\u001b[39mvinv, \u001b[38;5;28mself\u001b[39m\u001b[38;5;241m.\u001b[39mw3, \u001b[38;5;28mself\u001b[39m\u001b[38;5;241m.\u001b[39mx, \u001b[38;5;28mself\u001b[39m\u001b[38;5;241m.\u001b[39mw \u001b[38;5;241m=\u001b[39m \u001b[43mget_transform_matrix\u001b[49m\u001b[43m(\u001b[49m\n\u001b[1;32m     83\u001b[0m \u001b[43m    \u001b[49m\u001b[43mmsh\u001b[49m\u001b[38;5;241;43m.\u001b[39;49m\u001b[43mlx\u001b[49m\u001b[43m,\u001b[49m\u001b[43m \u001b[49m\u001b[43mmsh\u001b[49m\u001b[38;5;241;43m.\u001b[39;49m\u001b[43mgdim\u001b[49m\u001b[43m,\u001b[49m\u001b[43m \u001b[49m\u001b[43mapply_1d_operators\u001b[49m\u001b[38;5;241;43m=\u001b[39;49m\u001b[43mapply_1d_operators\u001b[49m\u001b[43m,\u001b[49m\u001b[43m \u001b[49m\u001b[43mdtype\u001b[49m\u001b[38;5;241;43m=\u001b[39;49m\u001b[38;5;28;43mself\u001b[39;49m\u001b[38;5;241;43m.\u001b[39;49m\u001b[43mdtype\u001b[49m\n\u001b[1;32m     84\u001b[0m \u001b[43m\u001b[49m\u001b[43m)\u001b[49m\n\u001b[1;32m     86\u001b[0m \u001b[38;5;28mself\u001b[39m\u001b[38;5;241m.\u001b[39mdr, \u001b[38;5;28mself\u001b[39m\u001b[38;5;241m.\u001b[39mds, \u001b[38;5;28mself\u001b[39m\u001b[38;5;241m.\u001b[39mdt, \u001b[38;5;28mself\u001b[39m\u001b[38;5;241m.\u001b[39mdn \u001b[38;5;241m=\u001b[39m get_derivative_matrix(\n\u001b[1;32m     87\u001b[0m     msh\u001b[38;5;241m.\u001b[39mlx, msh\u001b[38;5;241m.\u001b[39mgdim, dtype\u001b[38;5;241m=\u001b[39m\u001b[38;5;28mself\u001b[39m\u001b[38;5;241m.\u001b[39mdtype, apply_1d_operators\u001b[38;5;241m=\u001b[39mapply_1d_operators\n\u001b[1;32m     88\u001b[0m )\n\u001b[1;32m     90\u001b[0m \u001b[38;5;28mself\u001b[39m\u001b[38;5;241m.\u001b[39mlog\u001b[38;5;241m.\u001b[39mwrite(\u001b[38;5;124m\"\u001b[39m\u001b[38;5;124minfo\u001b[39m\u001b[38;5;124m\"\u001b[39m, \u001b[38;5;124m\"\u001b[39m\u001b[38;5;124mCalculating the components of the jacobian\u001b[39m\u001b[38;5;124m\"\u001b[39m)\n",
      "File \u001b[0;32m~/software/pySEMTools/pysemtools/datatypes/coef.py:898\u001b[0m, in \u001b[0;36mget_transform_matrix\u001b[0;34m(n, dim, apply_1d_operators, dtype)\u001b[0m\n\u001b[1;32m    873\u001b[0m \u001b[38;5;250m\u001b[39m\u001b[38;5;124;03m\"\"\"\u001b[39;00m\n\u001b[1;32m    874\u001b[0m \u001b[38;5;124;03mget transformation matrix to Legendre space of given order and dimension\u001b[39;00m\n\u001b[1;32m    875\u001b[0m \n\u001b[0;32m   (...)\u001b[0m\n\u001b[1;32m    895\u001b[0m \u001b[38;5;124;03m    Quadrature weights.\u001b[39;00m\n\u001b[1;32m    896\u001b[0m \u001b[38;5;124;03m\"\"\"\u001b[39;00m\n\u001b[1;32m    897\u001b[0m \u001b[38;5;66;03m# Get the quadrature nodes\u001b[39;00m\n\u001b[0;32m--> 898\u001b[0m x, w_ \u001b[38;5;241m=\u001b[39m \u001b[43mGLL_pwts\u001b[49m\u001b[43m(\u001b[49m\n\u001b[1;32m    899\u001b[0m \u001b[43m    \u001b[49m\u001b[43mn\u001b[49m\u001b[43m,\u001b[49m\u001b[43m \u001b[49m\u001b[43mdtype\u001b[49m\u001b[38;5;241;43m=\u001b[39;49m\u001b[43mdtype\u001b[49m\n\u001b[1;32m    900\u001b[0m \u001b[43m\u001b[49m\u001b[43m)\u001b[49m  \u001b[38;5;66;03m# The outputs of this functions are not exactly in the order we want (start from 1 not -1)\u001b[39;00m\n\u001b[1;32m    902\u001b[0m \u001b[38;5;66;03m# Reorder the quadrature nodes\u001b[39;00m\n\u001b[1;32m    903\u001b[0m x \u001b[38;5;241m=\u001b[39m np\u001b[38;5;241m.\u001b[39mflip(x)\n",
      "File \u001b[0;32m~/software/pySEMTools/pysemtools/datatypes/coef.py:846\u001b[0m, in \u001b[0;36mGLL_pwts\u001b[0;34m(n, eps, max_iter, dtype)\u001b[0m\n\u001b[1;32m    808\u001b[0m \u001b[38;5;28;01mdef\u001b[39;00m \u001b[38;5;21mGLL_pwts\u001b[39m(n, eps\u001b[38;5;241m=\u001b[39m\u001b[38;5;241m10\u001b[39m\u001b[38;5;241m*\u001b[39m\u001b[38;5;241m*\u001b[39m\u001b[38;5;241m-\u001b[39m\u001b[38;5;241m8\u001b[39m, max_iter\u001b[38;5;241m=\u001b[39m\u001b[38;5;241m1000\u001b[39m, dtype\u001b[38;5;241m=\u001b[39mnp\u001b[38;5;241m.\u001b[39mdouble):\n\u001b[1;32m    809\u001b[0m \u001b[38;5;250m    \u001b[39m\u001b[38;5;124;03m\"\"\"Generating `n` Gauss-Lobatto-Legendre (GLL) nodes and weights using the\u001b[39;00m\n\u001b[1;32m    810\u001b[0m \u001b[38;5;124;03m    Newton-Raphson iteration.\u001b[39;00m\n\u001b[1;32m    811\u001b[0m \n\u001b[0;32m   (...)\u001b[0m\n\u001b[1;32m    844\u001b[0m \n\u001b[1;32m    845\u001b[0m \u001b[38;5;124;03m    \"\"\"\u001b[39;00m\n\u001b[0;32m--> 846\u001b[0m     V \u001b[38;5;241m=\u001b[39m \u001b[43mnp\u001b[49m\u001b[38;5;241;43m.\u001b[39;49m\u001b[43mzeros\u001b[49m\u001b[43m(\u001b[49m\u001b[43m(\u001b[49m\u001b[43mn\u001b[49m\u001b[43m,\u001b[49m\u001b[43m \u001b[49m\u001b[43mn\u001b[49m\u001b[43m)\u001b[49m\u001b[43m,\u001b[49m\u001b[43m \u001b[49m\u001b[43mdtype\u001b[49m\u001b[38;5;241;43m=\u001b[39;49m\u001b[43mdtype\u001b[49m\u001b[43m)\u001b[49m  \u001b[38;5;66;03m# Legendre Vandermonde Matrix\u001b[39;00m\n\u001b[1;32m    847\u001b[0m     \u001b[38;5;66;03m# Initial guess for the nodes: GLC points\u001b[39;00m\n\u001b[1;32m    848\u001b[0m     xi, _ \u001b[38;5;241m=\u001b[39m GLC_pwts(n, dtype\u001b[38;5;241m=\u001b[39mdtype)\n",
      "\u001b[0;31mTypeError\u001b[0m: Cannot interpret 'torch.float64' as a data type"
     ]
    }
   ],
   "source": [
    "msh = Mesh(comm, create_connectivity=False, bckend='torch')\n",
    "fld = FieldRegistry(comm, bckend='torch')\n",
    "pynekread('../data/mixlay0.f00001', comm, data_dtype=np.double, msh=msh, fld=fld)\n",
    "coef = Coef(msh, comm, get_area=False)"
   ]
  },
  {
   "cell_type": "code",
   "execution_count": null,
   "id": "4098de2d",
   "metadata": {},
   "outputs": [
    {
     "name": "stdout",
     "output_type": "stream",
     "text": [
      "cpu\n"
     ]
    }
   ],
   "source": [
    "print(fld.fields['vel'][0].device)"
   ]
  },
  {
   "cell_type": "markdown",
   "id": "58ec6a8b-decd-4ee8-82e3-ba3e65d77afd",
   "metadata": {},
   "source": [
    "### Plot the 2D velocity field"
   ]
  },
  {
   "cell_type": "code",
   "execution_count": null,
   "id": "c71cf4f4-32ee-483f-8f32-4cf4ac889056",
   "metadata": {},
   "outputs": [],
   "source": [
    "fig, ax = plt.subplots(figsize=(5, 2.5), dpi = 200)\n",
    "c = ax.tricontourf(msh.x.flatten(), msh.y.flatten() ,fld.registry[\"u\"].flatten(), levels=100, cmap=\"RdBu_r\")\n",
    "fig.colorbar(c)\n",
    "ax.set_aspect('equal')\n",
    "ax.set_xlabel(\"x\")\n",
    "ax.set_ylabel(\"y\")\n",
    "ax.set_xlim([1.5,6.5])\n",
    "ax.set_ylim([5.5,8.5])\n",
    "plt.show()"
   ]
  },
  {
   "cell_type": "markdown",
   "id": "d7a0816c-3685-40a3-94d8-b92e75f6101e",
   "metadata": {},
   "source": [
    "## Obtain x and y derivatives of u\n",
    "\n",
    "Differentiation in physical space is done by using the chain rule. \n",
    "\n",
    "We always differentiate the the field in the reference element, i.e., we get: dudr, duds, dudt (in 3d).\n",
    "\n",
    "To obtain the derivative in physical space, we must simply pass as inputs the components of the inverse of the jacobian matrix that will map the derivatives in the reference element to the direction we want.\n",
    "\n",
    "For example in this case, to get the derivative in x we need to perform:\n",
    "\n",
    "dudx = dudr * drdx + duds * dsdx\n",
    "\n",
    "Therefore:"
   ]
  },
  {
   "cell_type": "code",
   "execution_count": null,
   "id": "07c8a956-fa1e-4e94-9843-77119a4b1c58",
   "metadata": {},
   "outputs": [],
   "source": [
    "dudx = coef.dudxyz(fld.registry['u'], coef.drdx, coef.dsdx)\n",
    "dudy = coef.dudxyz(fld.registry['u'], coef.drdy, coef.dsdy)"
   ]
  },
  {
   "cell_type": "markdown",
   "id": "82ad2501",
   "metadata": {},
   "source": [
    "### Plot the derivatives"
   ]
  },
  {
   "cell_type": "code",
   "execution_count": null,
   "id": "afb34844-07b7-494a-887b-9008a2690169",
   "metadata": {},
   "outputs": [],
   "source": [
    "fig, ax = plt.subplots(figsize=(5, 2.5), dpi = 200)\n",
    "c = ax.tricontourf(msh.x.flatten(), msh.y.flatten() ,dudx.flatten(), levels=np.linspace(-2.5,3.1,100), cmap=\"RdBu_r\")\n",
    "fig.colorbar(c)\n",
    "ax.set_aspect('equal')\n",
    "ax.set_xlabel(\"x\")\n",
    "ax.set_ylabel(\"y\")\n",
    "ax.set_xlim([1.5,6.5])\n",
    "ax.set_ylim([5.5,8.5])\n",
    "plt.show()\n",
    "\n",
    "fig, ax = plt.subplots(figsize=(5, 2.5), dpi = 200)\n",
    "c = ax.tricontourf(msh.x.flatten(), msh.y.flatten() ,dudy.flatten(), levels=np.linspace(-4.6,7.6,100), cmap=\"RdBu_r\")\n",
    "fig.colorbar(c)\n",
    "ax.set_aspect('equal')\n",
    "ax.set_xlabel(\"x\")\n",
    "ax.set_ylabel(\"y\")\n",
    "ax.set_xlim([1.5,6.5])\n",
    "ax.set_ylim([5.5,8.5])\n",
    "plt.show()"
   ]
  }
 ],
 "metadata": {
  "kernelspec": {
   "display_name": "python3.10",
   "language": "python",
   "name": "python3"
  },
  "language_info": {
   "codemirror_mode": {
    "name": "ipython",
    "version": 3
   },
   "file_extension": ".py",
   "mimetype": "text/x-python",
   "name": "python",
   "nbconvert_exporter": "python",
   "pygments_lexer": "ipython3",
   "version": "3.10.14"
  }
 },
 "nbformat": 4,
 "nbformat_minor": 5
}
