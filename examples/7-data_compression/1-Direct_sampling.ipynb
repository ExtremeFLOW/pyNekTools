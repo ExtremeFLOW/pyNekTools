{
 "cells": [
  {
   "cell_type": "markdown",
   "id": "31a94bbd-34ef-404b-a9be-4f3a216a8c3c",
   "metadata": {},
   "source": [
    "# Direct sampling with Gaussian process regression\n",
    "\n",
    "#### Import general modules\n",
    "\n",
    "mpi4py is always required when using these tools. Numpy is always good to have if any manipulation is to be done."
   ]
  },
  {
   "cell_type": "code",
   "execution_count": 19,
   "id": "8b4ca2be-46e8-443b-ab44-6d1a60abfec4",
   "metadata": {},
   "outputs": [],
   "source": [
    "# Import required modules\n",
    "from mpi4py import MPI #equivalent to the use of MPI_init() in C\n",
    "import matplotlib.pyplot as plt\n",
    "import numpy as np\n",
    "\n",
    "# Get mpi info\n",
    "comm = MPI.COMM_WORLD"
   ]
  },
  {
   "cell_type": "markdown",
   "id": "1702ba96-7854-4a2f-89d2-7f2b2aaa61b1",
   "metadata": {},
   "source": [
    "#### Import modules from pynektools\n",
    "\n",
    "In this case we will import all the data types that we currently support, as well as io functions that are required to populate them."
   ]
  },
  {
   "cell_type": "code",
   "execution_count": 20,
   "id": "09a4efe8-3557-4ff7-850e-0a26c8937bd6",
   "metadata": {},
   "outputs": [],
   "source": [
    "# Data types\n",
    "from pynektools.datatypes.msh import Mesh\n",
    "from pynektools.datatypes.coef import Coef\n",
    "from pynektools.datatypes.field import Field, FieldRegistry\n",
    "\n",
    "# Readers\n",
    "from pynektools.io.ppymech.neksuite import preadnek, pynekread\n",
    "\n",
    "# Writers\n",
    "from pynektools.io.ppymech.neksuite import pwritenek, pynekwrite\n",
    "\n",
    "fname = '/home/adperez/cpc_gaussian_process_compression/data/mixlay/mixlay0.f00001'"
   ]
  },
  {
   "cell_type": "markdown",
   "id": "865149a9",
   "metadata": {},
   "source": [
    "## Read the data"
   ]
  },
  {
   "cell_type": "code",
   "execution_count": 21,
   "id": "b22e1afb",
   "metadata": {},
   "outputs": [
    {
     "name": "stdout",
     "output_type": "stream",
     "text": [
      "2025-02-19 18:12:26,351 - Mesh - INFO - Initializing empty Mesh object.\n",
      "2025-02-19 18:12:26,353 - Field - INFO - Initializing empty Field object\n",
      "2025-02-19 18:12:26,354 - pynekread - INFO - Reading file: /home/adperez/cpc_gaussian_process_compression/data/mixlay/mixlay0.f00001\n",
      "2025-02-19 18:12:26,357 - Mesh - INFO - Initializing Mesh object from x,y,z ndarrays.\n",
      "2025-02-19 18:12:26,358 - Mesh - INFO - Initializing common attributes.\n",
      "2025-02-19 18:12:26,359 - Mesh - INFO - Getting vertices\n",
      "2025-02-19 18:12:26,360 - Mesh - INFO - Getting edge centers\n",
      "2025-02-19 18:12:26,367 - Mesh - INFO - Facet centers not available for 2D\n",
      "2025-02-19 18:12:26,368 - Mesh - INFO - Mesh object initialized.\n",
      "2025-02-19 18:12:26,370 - Mesh - INFO - Mesh data is of type: float64\n",
      "2025-02-19 18:12:26,370 - Mesh - INFO - Elapsed time: 0.013423200999994833s\n",
      "2025-02-19 18:12:26,371 - pynekread - INFO - Reading field data\n",
      "2025-02-19 18:12:26,373 - pynekread - INFO - File read\n",
      "2025-02-19 18:12:26,374 - pynekread - INFO - Elapsed time: 0.020564500000006092s\n",
      "1466\n",
      "2025-02-19 18:12:26,397 - Coef - INFO - Initializing Coef object\n",
      "2025-02-19 18:12:26,398 - Coef - INFO - Getting derivative matrices\n",
      "2025-02-19 18:12:26,401 - Coef - INFO - Calculating the components of the jacobian\n",
      "2025-02-19 18:12:26,420 - Coef - INFO - Calculating the jacobian determinant and inverse of the jacobian matrix\n",
      "2025-02-19 18:12:26,422 - Coef - INFO - Calculating the mass matrix\n",
      "2025-02-19 18:12:26,423 - Coef - INFO - Coef object initialized\n",
      "2025-02-19 18:12:26,424 - Coef - INFO - Coef data is of type: float64\n",
      "2025-02-19 18:12:26,425 - Coef - INFO - Elapsed time: 0.027518473000000654s\n"
     ]
    }
   ],
   "source": [
    "msh = Mesh(comm, create_connectivity=False)\n",
    "fld = FieldRegistry(comm)\n",
    "\n",
    "pynekread(fname, comm, data_dtype=np.double, msh = msh, fld = fld)\n",
    "\n",
    "\n",
    "for e in range(msh.nelv):\n",
    "    if (np.min(msh.x[e]), np.max(msh.x[e])) == (0, 0.25):\n",
    "        if (np.min(msh.y[e]), np.max(msh.y[e])) == (0, 1.1399999856948853):\n",
    "            print(e)\n",
    "    \n",
    "coef = Coef(msh=msh, comm=comm)"
   ]
  },
  {
   "cell_type": "markdown",
   "id": "8c9c9159",
   "metadata": {},
   "source": [
    "## Initialize the Direct sampler"
   ]
  },
  {
   "cell_type": "code",
   "execution_count": 22,
   "id": "18c47836",
   "metadata": {},
   "outputs": [],
   "source": [
    "from pynektools.compression.gpc_direct_sampling import DirectSampler\n",
    "\n",
    "ds = DirectSampler(comm=comm, msh=msh)"
   ]
  },
  {
   "cell_type": "code",
   "execution_count": null,
   "id": "643cc825",
   "metadata": {},
   "outputs": [
    {
     "name": "stdout",
     "output_type": "stream",
     "text": [
      "2025-02-19 18:12:26,463 - DirectSampler - INFO - Sampling the field with options: covariance_method: {covariance_method}, compression_method: {compression_method}\n",
      "2025-02-19 18:12:26,464 - DirectSampler - INFO - Estimating the covariance matrix\n",
      "2025-02-19 18:12:26,466 - DirectSampler - INFO - Transforming the field into to legendre space\n",
      "2025-02-19 18:12:26,473 - DirectSampler - INFO - Estimating the covariance matrix using the averaging method method. Averaging over 100 elements at a time\n",
      "2025-02-19 18:12:26,475 - DirectSampler - INFO - Covariance saved in field data_to_compress[\"u\"][\"kw\"]\n",
      "2025-02-19 18:12:26,478 - DirectSampler - INFO - Sampling the field using the fixed bitrate method. using settings: {'method': 'fixed_bitrate', 'bitrate': 0.1, 'n_samples': 7}\n",
      "2025-02-19 18:12:26,878 - DirectSampler - INFO - Sampled_field saved in field data_to_compress[\"u\"][\"field\"]\n"
     ]
    }
   ],
   "source": [
    "#ds.estimate_covariance(\"average\", elements_to_average=100)\n",
    "#ds.sample(method=\"fixed_bitrate\", n_samples=63)\n",
    "\n",
    "ds.sample_field(field=fld.registry[\"u\"], field_name=\"u\", covariance_method=\"average\", covariance_elements_to_average=100, compression_method=\"fixed_bitrate\", bitrate = 0.25)\n"
   ]
  },
  {
   "cell_type": "code",
   "execution_count": 24,
   "id": "1ff72ebe",
   "metadata": {},
   "outputs": [],
   "source": [
    "# Hack it a bit to make the rest work\n",
    "\n",
    "ds.field = fld.registry[\"u\"]\n",
    "ds.field_sampled = ds.data_to_compress[\"u\"][\"field\"]\n",
    "ds.kw = ds.data_to_compress[\"u\"][\"kw\"]\n",
    "ds.elements_to_average = ds.settings[\"covariance\"][\"elements_to_average\"]"
   ]
  },
  {
   "cell_type": "code",
   "execution_count": 25,
   "id": "c1930617",
   "metadata": {},
   "outputs": [
    {
     "name": "stdout",
     "output_type": "stream",
     "text": [
      "[[[  0. -50. -50. -50. -50. -50. -50.   0.]\n",
      "  [-50. -50. -50. -50. -50. -50. -50. -50.]\n",
      "  [-50. -50. -50. -50. -50. -50. -50. -50.]\n",
      "  [-50. -50. -50. -50. -50. -50. -50. -50.]\n",
      "  [-50. -50. -50. -50. -50. -50. -50. -50.]\n",
      "  [-50. -50. -50.   0. -50. -50. -50. -50.]\n",
      "  [-50.   0. -50. -50.   0. -50. -50. -50.]\n",
      "  [  0. -50. -50. -50. -50. -50. -50.   0.]]]\n"
     ]
    }
   ],
   "source": [
    "ind_50 = np.where(ds.field_sampled[0] == -50)\n",
    "#print(ds.field[0])\n",
    "#print(ds.field_sampled[0])\n",
    "a = abs(ds.field_sampled[0])-abs(ds.field[0])\n",
    "a[ind_50] = -50\n",
    "print(a)"
   ]
  },
  {
   "cell_type": "code",
   "execution_count": 26,
   "id": "e5b716cc",
   "metadata": {},
   "outputs": [
    {
     "name": "stdout",
     "output_type": "stream",
     "text": [
      "[[ 1.99990441e-01]\n",
      " [-5.57531503e-06]\n",
      " [-1.80462288e-08]\n",
      " [ 7.00211732e-09]\n",
      " [-9.51879178e-09]\n",
      " [ 2.13566155e-09]\n",
      " [-5.95115817e-10]\n",
      " [-5.36121616e-10]\n",
      " [-8.59488645e-06]\n",
      " [-5.00078505e-06]\n",
      " [-3.83074439e-09]\n",
      " [ 8.52690949e-09]\n",
      " [-8.40598942e-09]\n",
      " [ 2.39046847e-09]\n",
      " [-8.58811016e-10]\n",
      " [-2.42388614e-10]\n",
      " [-2.37776126e-06]\n",
      " [-1.36844321e-06]\n",
      " [ 1.57842481e-08]\n",
      " [ 5.69112633e-09]\n",
      " [-2.72724125e-09]\n",
      " [ 4.27633113e-10]\n",
      " [-4.92429909e-10]\n",
      " [ 4.96550225e-10]\n",
      " [ 1.13080070e-07]\n",
      " [ 7.57060759e-08]\n",
      " [ 1.00539981e-08]\n",
      " [ 8.09318145e-10]\n",
      " [-2.86645941e-10]\n",
      " [ 2.32829433e-10]\n",
      " [ 1.42264199e-10]\n",
      " [ 4.43830162e-10]\n",
      " [ 8.43976818e-08]\n",
      " [ 4.96585829e-08]\n",
      " [-1.09479314e-09]\n",
      " [ 8.54305353e-10]\n",
      " [ 9.55948182e-10]\n",
      " [-8.39331422e-10]\n",
      " [ 3.69644683e-10]\n",
      " [ 2.50419075e-10]\n",
      " [-1.66313403e-08]\n",
      " [-1.06633414e-08]\n",
      " [-2.55425789e-09]\n",
      " [-9.41682210e-11]\n",
      " [ 1.41116511e-09]\n",
      " [-6.89430439e-10]\n",
      " [ 6.21008604e-11]\n",
      " [ 1.17915297e-09]\n",
      " [-4.47323203e-09]\n",
      " [-2.63863014e-09]\n",
      " [-1.17943747e-09]\n",
      " [-1.12387309e-09]\n",
      " [ 1.36931241e-09]\n",
      " [ 7.21890533e-10]\n",
      " [-4.97975880e-10]\n",
      " [ 1.32822557e-10]\n",
      " [ 5.68215849e-10]\n",
      " [ 3.38505397e-10]\n",
      " [-6.73645528e-10]\n",
      " [ 6.20096953e-10]\n",
      " [ 1.06796567e-09]\n",
      " [ 2.67167129e-10]\n",
      " [-5.58488875e-10]\n",
      " [-1.08131427e-09]]\n",
      "======\n",
      "[[  0.1       ]\n",
      " [-50.        ]\n",
      " [-50.        ]\n",
      " [-50.        ]\n",
      " [-50.        ]\n",
      " [-50.        ]\n",
      " [-50.        ]\n",
      " [  0.1       ]\n",
      " [-50.        ]\n",
      " [-50.        ]\n",
      " [-50.        ]\n",
      " [-50.        ]\n",
      " [-50.        ]\n",
      " [-50.        ]\n",
      " [-50.        ]\n",
      " [-50.        ]\n",
      " [-50.        ]\n",
      " [-50.        ]\n",
      " [-50.        ]\n",
      " [-50.        ]\n",
      " [-50.        ]\n",
      " [-50.        ]\n",
      " [-50.        ]\n",
      " [-50.        ]\n",
      " [  0.1       ]\n",
      " [-50.        ]\n",
      " [-50.        ]\n",
      " [-50.        ]\n",
      " [-50.        ]\n",
      " [-50.        ]\n",
      " [-50.        ]\n",
      " [  0.09999596]\n",
      " [-50.        ]\n",
      " [-50.        ]\n",
      " [-50.        ]\n",
      " [  0.09999592]\n",
      " [-50.        ]\n",
      " [-50.        ]\n",
      " [-50.        ]\n",
      " [-50.        ]\n",
      " [-50.        ]\n",
      " [-50.        ]\n",
      " [-50.        ]\n",
      " [-50.        ]\n",
      " [-50.        ]\n",
      " [-50.        ]\n",
      " [-50.        ]\n",
      " [-50.        ]\n",
      " [-50.        ]\n",
      " [-50.        ]\n",
      " [-50.        ]\n",
      " [-50.        ]\n",
      " [-50.        ]\n",
      " [-50.        ]\n",
      " [-50.        ]\n",
      " [-50.        ]\n",
      " [  0.1       ]\n",
      " [-50.        ]\n",
      " [-50.        ]\n",
      " [-50.        ]\n",
      " [-50.        ]\n",
      " [-50.        ]\n",
      " [-50.        ]\n",
      " [  0.0999707 ]]\n"
     ]
    }
   ],
   "source": [
    "\n",
    "print(ds.field_hat[1466].reshape(-1,1, order='F'))\n",
    "\n",
    "print(\"======\")\n",
    "\n",
    "print(ds.field_sampled[1466].reshape(-1,1, order='F'))"
   ]
  },
  {
   "cell_type": "code",
   "execution_count": 27,
   "id": "40c734e9",
   "metadata": {},
   "outputs": [
    {
     "ename": "AttributeError",
     "evalue": "'DirectSampler' object has no attribute 'transformed_index'",
     "output_type": "error",
     "traceback": [
      "\u001b[0;31m---------------------------------------------------------------------------\u001b[0m",
      "\u001b[0;31mAttributeError\u001b[0m                            Traceback (most recent call last)",
      "Cell \u001b[0;32mIn[27], line 1\u001b[0m\n\u001b[0;32m----> 1\u001b[0m recon \u001b[38;5;241m=\u001b[39m \u001b[43mds\u001b[49m\u001b[38;5;241;43m.\u001b[39;49m\u001b[43mpredict\u001b[49m\u001b[43m(\u001b[49m\u001b[43mds\u001b[49m\u001b[38;5;241;43m.\u001b[39;49m\u001b[43mfield_sampled\u001b[49m\u001b[43m)\u001b[49m\n",
      "File \u001b[0;32m~/software/pyNekTools/pynektools/compression/gpc_direct_sampling.py:196\u001b[0m, in \u001b[0;36mDirectSampler.predict\u001b[0;34m(self, field_sampled)\u001b[0m\n\u001b[1;32m    193\u001b[0m \u001b[38;5;28;01mfor\u001b[39;00m e \u001b[38;5;129;01min\u001b[39;00m \u001b[38;5;28mrange\u001b[39m(\u001b[38;5;241m0\u001b[39m,\u001b[38;5;28mself\u001b[39m\u001b[38;5;241m.\u001b[39mnelv):\n\u001b[1;32m    195\u001b[0m     kw \u001b[38;5;241m=\u001b[39m \u001b[38;5;28mself\u001b[39m\u001b[38;5;241m.\u001b[39mkw[\u001b[38;5;28mint\u001b[39m(np\u001b[38;5;241m.\u001b[39mfloor(e\u001b[38;5;241m/\u001b[39m\u001b[38;5;28mself\u001b[39m\u001b[38;5;241m.\u001b[39melements_to_average))]\n\u001b[0;32m--> 196\u001b[0m     x \u001b[38;5;241m=\u001b[39m \u001b[38;5;28;43mself\u001b[39;49m\u001b[38;5;241;43m.\u001b[39;49m\u001b[43mtransformed_index\u001b[49m[e]\u001b[38;5;241m.\u001b[39mreshape(\u001b[38;5;241m-\u001b[39m\u001b[38;5;241m1\u001b[39m,\u001b[38;5;241m1\u001b[39m)\n\u001b[1;32m    197\u001b[0m     y \u001b[38;5;241m=\u001b[39m field_sampled[e]\u001b[38;5;241m.\u001b[39mreshape(\u001b[38;5;241m-\u001b[39m\u001b[38;5;241m1\u001b[39m,\u001b[38;5;241m1\u001b[39m)\n\u001b[1;32m    199\u001b[0m     y_lcl_rct,y_std_lcl_rct \u001b[38;5;241m=\u001b[39m lcl_predict(kw,\u001b[38;5;28mself\u001b[39m\u001b[38;5;241m.\u001b[39mv,\u001b[38;5;28mself\u001b[39m\u001b[38;5;241m.\u001b[39mn_samples,x,y,sampling_type)\n",
      "\u001b[0;31mAttributeError\u001b[0m: 'DirectSampler' object has no attribute 'transformed_index'"
     ]
    }
   ],
   "source": [
    "recon = ds.predict(ds.field_sampled)"
   ]
  },
  {
   "cell_type": "code",
   "execution_count": null,
   "id": "72530f76",
   "metadata": {},
   "outputs": [],
   "source": [
    "fig, ax = plt.subplots(figsize=(5, 2.5), dpi = 200)\n",
    "c = ax.tricontourf(msh.x.flatten(), msh.y.flatten() ,fld.registry[\"u\"].flatten(), levels=100, cmap=\"RdBu_r\")\n",
    "fig.colorbar(c)\n",
    "ax.set_aspect('equal')\n",
    "ax.set_xlabel(\"x\")\n",
    "ax.set_ylabel(\"y\")\n",
    "ax.set_xlim([1.5,6.5])\n",
    "ax.set_ylim([5.5,8.5])\n",
    "plt.show()"
   ]
  },
  {
   "cell_type": "code",
   "execution_count": null,
   "id": "5212b4fb",
   "metadata": {},
   "outputs": [],
   "source": [
    "fig, ax = plt.subplots(figsize=(5, 2.5), dpi = 200)\n",
    "#c = ax.tricontourf(msh.x.flatten(), msh.y.flatten() , fld.registry[\"u\"].flatten() - recon.flatten(), levels=100, cmap=\"RdBu_r\")\n",
    "c = ax.tricontourf(msh.x.flatten(), msh.y.flatten() ,recon.flatten(), levels=100, cmap=\"RdBu_r\")\n",
    "fig.colorbar(c)\n",
    "ax.set_aspect('equal')\n",
    "ax.set_xlabel(\"x\")\n",
    "ax.set_ylabel(\"y\")\n",
    "ax.set_xlim([1.5,6.5])\n",
    "ax.set_ylim([5.5,8.5])\n",
    "plt.show()"
   ]
  },
  {
   "cell_type": "code",
   "execution_count": null,
   "id": "2d15e953",
   "metadata": {},
   "outputs": [],
   "source": [
    "print(np.mean(fld.registry[\"u\"] - recon))"
   ]
  }
 ],
 "metadata": {
  "kernelspec": {
   "display_name": "python3.10",
   "language": "python",
   "name": "python3"
  },
  "language_info": {
   "codemirror_mode": {
    "name": "ipython",
    "version": 3
   },
   "file_extension": ".py",
   "mimetype": "text/x-python",
   "name": "python",
   "nbconvert_exporter": "python",
   "pygments_lexer": "ipython3",
   "version": "3.10.14"
  }
 },
 "nbformat": 4,
 "nbformat_minor": 5
}
