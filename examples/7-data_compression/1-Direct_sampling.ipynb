{
 "cells": [
  {
   "cell_type": "markdown",
   "id": "31a94bbd-34ef-404b-a9be-4f3a216a8c3c",
   "metadata": {},
   "source": [
    "# Direct sampling with Gaussian process regression\n",
    "\n",
    "#### Import general modules\n",
    "\n",
    "mpi4py is always required when using these tools. Numpy is always good to have if any manipulation is to be done."
   ]
  },
  {
   "cell_type": "code",
   "execution_count": 1,
   "id": "8b4ca2be-46e8-443b-ab44-6d1a60abfec4",
   "metadata": {},
   "outputs": [],
   "source": [
    "# Import required modules\n",
    "from mpi4py import MPI #equivalent to the use of MPI_init() in C\n",
    "import matplotlib.pyplot as plt\n",
    "import numpy as np\n",
    "\n",
    "# Get mpi info\n",
    "comm = MPI.COMM_WORLD"
   ]
  },
  {
   "cell_type": "markdown",
   "id": "1702ba96-7854-4a2f-89d2-7f2b2aaa61b1",
   "metadata": {},
   "source": [
    "#### Import modules from pynektools\n",
    "\n",
    "In this case we will import all the data types that we currently support, as well as io functions that are required to populate them."
   ]
  },
  {
   "cell_type": "code",
   "execution_count": null,
   "id": "09a4efe8-3557-4ff7-850e-0a26c8937bd6",
   "metadata": {},
   "outputs": [],
   "source": [
    "# Data types\n",
    "from pynektools.datatypes.msh import Mesh\n",
    "from pynektools.datatypes.coef import Coef\n",
    "from pynektools.datatypes.field import Field, FieldRegistry\n",
    "\n",
    "# Readers\n",
    "from pynektools.io.ppymech.neksuite import preadnek, pynekread\n",
    "\n",
    "# Writers\n",
    "from pynektools.io.ppymech.neksuite import pwritenek, pynekwrite\n",
    "\n",
    "fname = '/home/adperez/cpc_gaussian_process_compression/data/mixlay/mixlay0.f00001'\n",
    "#fname = '/home/adperez/Documents/gaussian_process/Gaussian Process_0823/data/turbPipe/turbPipe0.f00001'\n"
   ]
  },
  {
   "cell_type": "markdown",
   "id": "865149a9",
   "metadata": {},
   "source": [
    "## Read the data"
   ]
  },
  {
   "cell_type": "code",
   "execution_count": 3,
   "id": "b22e1afb",
   "metadata": {},
   "outputs": [
    {
     "name": "stdout",
     "output_type": "stream",
     "text": [
      "2025-02-19 20:05:16,605 - Mesh - INFO - Initializing empty Mesh object.\n",
      "2025-02-19 20:05:16,607 - Field - INFO - Initializing empty Field object\n",
      "2025-02-19 20:05:16,608 - pynekread - INFO - Reading file: /home/adperez/Documents/gaussian_process/Gaussian Process_0823/data/turbPipe/turbPipe0.f00001\n",
      "2025-02-19 20:05:16,932 - Mesh - INFO - Initializing Mesh object from x,y,z ndarrays.\n",
      "2025-02-19 20:05:16,933 - Mesh - INFO - Initializing common attributes.\n",
      "2025-02-19 20:05:16,934 - Mesh - INFO - Getting vertices\n",
      "2025-02-19 20:05:16,950 - Mesh - INFO - Getting edge centers\n",
      "2025-02-19 20:05:17,584 - Mesh - INFO - Getting facet centers\n",
      "2025-02-19 20:05:18,117 - Mesh - INFO - Mesh object initialized.\n",
      "2025-02-19 20:05:18,118 - Mesh - INFO - Mesh data is of type: float64\n",
      "2025-02-19 20:05:18,118 - Mesh - INFO - Elapsed time: 1.18616782s\n",
      "2025-02-19 20:05:18,119 - pynekread - INFO - Reading field data\n",
      "2025-02-19 20:05:18,579 - pynekread - INFO - File read\n",
      "2025-02-19 20:05:18,580 - pynekread - INFO - Elapsed time: 1.971492525s\n",
      "2025-02-19 20:05:18,888 - Coef - INFO - Initializing Coef object\n",
      "2025-02-19 20:05:18,890 - Coef - INFO - Getting derivative matrices\n",
      "2025-02-19 20:05:18,893 - Coef - INFO - Calculating the components of the jacobian\n",
      "2025-02-19 20:05:25,236 - Coef - INFO - Calculating the jacobian determinant and inverse of the jacobian matrix\n",
      "2025-02-19 20:05:26,788 - Coef - INFO - Calculating the mass matrix\n",
      "2025-02-19 20:05:26,835 - Coef - INFO - Coef object initialized\n",
      "2025-02-19 20:05:26,836 - Coef - INFO - Coef data is of type: float64\n",
      "2025-02-19 20:05:26,836 - Coef - INFO - Elapsed time: 7.948030051s\n"
     ]
    }
   ],
   "source": [
    "msh = Mesh(comm, create_connectivity=False)\n",
    "fld = FieldRegistry(comm)\n",
    "\n",
    "pynekread(fname, comm, data_dtype=np.double, msh = msh, fld = fld)\n",
    "\n",
    "\n",
    "for e in range(msh.nelv):\n",
    "    if (np.min(msh.x[e]), np.max(msh.x[e])) == (0, 0.25):\n",
    "        if (np.min(msh.y[e]), np.max(msh.y[e])) == (0, 1.1399999856948853):\n",
    "            print(e)\n",
    "    \n",
    "coef = Coef(msh=msh, comm=comm)"
   ]
  },
  {
   "cell_type": "markdown",
   "id": "8c9c9159",
   "metadata": {},
   "source": [
    "## Initialize the Direct sampler"
   ]
  },
  {
   "cell_type": "code",
   "execution_count": 4,
   "id": "18c47836",
   "metadata": {},
   "outputs": [],
   "source": [
    "from pynektools.compression.gpc_direct_sampling import DirectSampler\n",
    "\n",
    "ds = DirectSampler(comm=comm, msh=msh)"
   ]
  },
  {
   "cell_type": "code",
   "execution_count": 5,
   "id": "643cc825",
   "metadata": {},
   "outputs": [
    {
     "name": "stdout",
     "output_type": "stream",
     "text": [
      "2025-02-19 20:05:26,860 - DirectSampler - INFO - Sampling the field with options: covariance_method: {covariance_method}, compression_method: {compression_method}\n",
      "2025-02-19 20:05:26,861 - DirectSampler - INFO - Estimating the covariance matrix\n",
      "2025-02-19 20:05:26,862 - DirectSampler - INFO - Transforming the field into to legendre space\n",
      "2025-02-19 20:05:32,758 - DirectSampler - INFO - Estimating the covariance matrix using the averaging method method. Averaging over 3780 elements at a time\n",
      "2025-02-19 20:05:32,778 - DirectSampler - INFO - Covariance saved in field data_to_compress[\"u\"][\"kw\"]\n",
      "2025-02-19 20:05:32,779 - DirectSampler - INFO - Sampling the field using the fixed bitrate method. using settings: {'method': 'fixed_bitrate', 'bitrate': np.float64(0.05859375), 'n_samples': 30}\n",
      "0\n",
      "(10, 3780, 1, 512)\n",
      "(1, 1, 512, 512)\n"
     ]
    },
    {
     "ename": "MemoryError",
     "evalue": "Unable to allocate 73.8 GiB for an array with shape (10, 3780, 512, 512) and data type float64",
     "output_type": "error",
     "traceback": [
      "\u001b[0;31m---------------------------------------------------------------------------\u001b[0m",
      "\u001b[0;31mMemoryError\u001b[0m                               Traceback (most recent call last)",
      "Cell \u001b[0;32mIn[5], line 6\u001b[0m\n\u001b[1;32m      4\u001b[0m n_samples \u001b[38;5;241m=\u001b[39m \u001b[38;5;241m30\u001b[39m\n\u001b[1;32m      5\u001b[0m bitrate \u001b[38;5;241m=\u001b[39m n_samples\u001b[38;5;241m/\u001b[39m(msh\u001b[38;5;241m.\u001b[39mlx\u001b[38;5;241m*\u001b[39mmsh\u001b[38;5;241m.\u001b[39mly\u001b[38;5;241m*\u001b[39mmsh\u001b[38;5;241m.\u001b[39mlz)\n\u001b[0;32m----> 6\u001b[0m \u001b[43mds\u001b[49m\u001b[38;5;241;43m.\u001b[39;49m\u001b[43msample_field\u001b[49m\u001b[43m(\u001b[49m\u001b[43mfield\u001b[49m\u001b[38;5;241;43m=\u001b[39;49m\u001b[43mfld\u001b[49m\u001b[38;5;241;43m.\u001b[39;49m\u001b[43mregistry\u001b[49m\u001b[43m[\u001b[49m\u001b[38;5;124;43m\"\u001b[39;49m\u001b[38;5;124;43mu\u001b[39;49m\u001b[38;5;124;43m\"\u001b[39;49m\u001b[43m]\u001b[49m\u001b[43m,\u001b[49m\u001b[43m \u001b[49m\u001b[43mfield_name\u001b[49m\u001b[38;5;241;43m=\u001b[39;49m\u001b[38;5;124;43m\"\u001b[39;49m\u001b[38;5;124;43mu\u001b[39;49m\u001b[38;5;124;43m\"\u001b[39;49m\u001b[43m,\u001b[49m\u001b[43m \u001b[49m\u001b[43mcovariance_method\u001b[49m\u001b[38;5;241;43m=\u001b[39;49m\u001b[38;5;124;43m\"\u001b[39;49m\u001b[38;5;124;43maverage\u001b[39;49m\u001b[38;5;124;43m\"\u001b[39;49m\u001b[43m,\u001b[49m\u001b[43m \u001b[49m\u001b[43mcovariance_elements_to_average\u001b[49m\u001b[38;5;241;43m=\u001b[39;49m\u001b[38;5;28;43mint\u001b[39;49m\u001b[43m(\u001b[49m\u001b[43mmsh\u001b[49m\u001b[38;5;241;43m.\u001b[39;49m\u001b[43mnelv\u001b[49m\u001b[38;5;241;43m/\u001b[39;49m\u001b[38;5;241;43m10\u001b[39;49m\u001b[43m)\u001b[49m\u001b[43m,\u001b[49m\u001b[43m \u001b[49m\u001b[43mcompression_method\u001b[49m\u001b[38;5;241;43m=\u001b[39;49m\u001b[38;5;124;43m\"\u001b[39;49m\u001b[38;5;124;43mfixed_bitrate\u001b[39;49m\u001b[38;5;124;43m\"\u001b[39;49m\u001b[43m,\u001b[49m\u001b[43m \u001b[49m\u001b[43mbitrate\u001b[49m\u001b[43m \u001b[49m\u001b[38;5;241;43m=\u001b[39;49m\u001b[43m \u001b[49m\u001b[43mbitrate\u001b[49m\u001b[43m)\u001b[49m\n",
      "File \u001b[0;32m~/software/pyNekTools/pynektools/compression/gpc_direct_sampling.py:61\u001b[0m, in \u001b[0;36mDirectSampler.sample_field\u001b[0;34m(self, field, field_name, covariance_method, covariance_elements_to_average, covariance_keep_modes, compression_method, bitrate)\u001b[0m\n\u001b[1;32m     56\u001b[0m \u001b[38;5;28mself\u001b[39m\u001b[38;5;241m.\u001b[39msettings[\u001b[38;5;124m\"\u001b[39m\u001b[38;5;124mcompression\u001b[39m\u001b[38;5;124m\"\u001b[39m] \u001b[38;5;241m=\u001b[39m  {\u001b[38;5;124m\"\u001b[39m\u001b[38;5;124mmethod\u001b[39m\u001b[38;5;124m\"\u001b[39m: compression_method,\n\u001b[1;32m     57\u001b[0m                                  \u001b[38;5;124m\"\u001b[39m\u001b[38;5;124mbitrate\u001b[39m\u001b[38;5;124m\"\u001b[39m: bitrate,\n\u001b[1;32m     58\u001b[0m                                  \u001b[38;5;124m\"\u001b[39m\u001b[38;5;124mn_samples\u001b[39m\u001b[38;5;124m\"\u001b[39m : \u001b[38;5;28mint\u001b[39m(\u001b[38;5;28mself\u001b[39m\u001b[38;5;241m.\u001b[39mlx\u001b[38;5;241m*\u001b[39m\u001b[38;5;28mself\u001b[39m\u001b[38;5;241m.\u001b[39mly\u001b[38;5;241m*\u001b[39m\u001b[38;5;28mself\u001b[39m\u001b[38;5;241m.\u001b[39mlz \u001b[38;5;241m*\u001b[39m bitrate)}\n\u001b[1;32m     60\u001b[0m \u001b[38;5;28mself\u001b[39m\u001b[38;5;241m.\u001b[39mlog\u001b[38;5;241m.\u001b[39mwrite(\u001b[38;5;124m\"\u001b[39m\u001b[38;5;124minfo\u001b[39m\u001b[38;5;124m\"\u001b[39m, \u001b[38;5;124mf\u001b[39m\u001b[38;5;124m\"\u001b[39m\u001b[38;5;124mSampling the field using the fixed bitrate method. using settings: \u001b[39m\u001b[38;5;132;01m{\u001b[39;00m\u001b[38;5;28mself\u001b[39m\u001b[38;5;241m.\u001b[39msettings[\u001b[38;5;124m'\u001b[39m\u001b[38;5;124mcompression\u001b[39m\u001b[38;5;124m'\u001b[39m]\u001b[38;5;132;01m}\u001b[39;00m\u001b[38;5;124m\"\u001b[39m)\n\u001b[0;32m---> 61\u001b[0m field_sampled \u001b[38;5;241m=\u001b[39m \u001b[38;5;28;43mself\u001b[39;49m\u001b[38;5;241;43m.\u001b[39;49m\u001b[43m_sample_fixed_bitrate\u001b[49m\u001b[43m(\u001b[49m\u001b[43mfield\u001b[49m\u001b[43m,\u001b[49m\u001b[43m \u001b[49m\u001b[43mfield_name\u001b[49m\u001b[43m,\u001b[49m\u001b[43m \u001b[49m\u001b[38;5;28;43mself\u001b[39;49m\u001b[38;5;241;43m.\u001b[39;49m\u001b[43msettings\u001b[49m\u001b[43m)\u001b[49m\n\u001b[1;32m     63\u001b[0m \u001b[38;5;28mself\u001b[39m\u001b[38;5;241m.\u001b[39mdata_to_compress[\u001b[38;5;124mf\u001b[39m\u001b[38;5;124m\"\u001b[39m\u001b[38;5;132;01m{\u001b[39;00mfield_name\u001b[38;5;132;01m}\u001b[39;00m\u001b[38;5;124m\"\u001b[39m][\u001b[38;5;124m\"\u001b[39m\u001b[38;5;124mfield\u001b[39m\u001b[38;5;124m\"\u001b[39m] \u001b[38;5;241m=\u001b[39m field_sampled\n\u001b[1;32m     64\u001b[0m \u001b[38;5;28mself\u001b[39m\u001b[38;5;241m.\u001b[39mlog\u001b[38;5;241m.\u001b[39mwrite(\u001b[38;5;124m\"\u001b[39m\u001b[38;5;124minfo\u001b[39m\u001b[38;5;124m\"\u001b[39m, \u001b[38;5;124mf\u001b[39m\u001b[38;5;124m\"\u001b[39m\u001b[38;5;124mSampled_field saved in field data_to_compress[\u001b[39m\u001b[38;5;130;01m\\\"\u001b[39;00m\u001b[38;5;132;01m{\u001b[39;00mfield_name\u001b[38;5;132;01m}\u001b[39;00m\u001b[38;5;130;01m\\\"\u001b[39;00m\u001b[38;5;124m][\u001b[39m\u001b[38;5;130;01m\\\"\u001b[39;00m\u001b[38;5;124mfield\u001b[39m\u001b[38;5;130;01m\\\"\u001b[39;00m\u001b[38;5;124m]\u001b[39m\u001b[38;5;124m\"\u001b[39m)\n",
      "File \u001b[0;32m~/software/pyNekTools/pynektools/compression/gpc_direct_sampling.py:174\u001b[0m, in \u001b[0;36mDirectSampler._sample_fixed_bitrate\u001b[0;34m(self, field, field_name, settings)\u001b[0m\n\u001b[1;32m    170\u001b[0m eps \u001b[38;5;241m=\u001b[39m \u001b[38;5;241m1e-10\u001b[39m\u001b[38;5;241m*\u001b[39mnp\u001b[38;5;241m.\u001b[39meye(k11\u001b[38;5;241m.\u001b[39mshape[\u001b[38;5;241m-\u001b[39m\u001b[38;5;241m1\u001b[39m])\u001b[38;5;241m.\u001b[39mreshape(\u001b[38;5;241m1\u001b[39m,\u001b[38;5;241m1\u001b[39m,k11\u001b[38;5;241m.\u001b[39mshape[\u001b[38;5;241m-\u001b[39m\u001b[38;5;241m1\u001b[39m],k11\u001b[38;5;241m.\u001b[39mshape[\u001b[38;5;241m-\u001b[39m\u001b[38;5;241m1\u001b[39m])\n\u001b[1;32m    171\u001b[0m \u001b[38;5;66;03m## Predict the mean and covariance matrix of all entires (data set 2) given the known samples (data set 1)\u001b[39;00m\n\u001b[1;32m    172\u001b[0m \u001b[38;5;66;03m## Actually do not predict the mean at this stage, only the covariance to save some time\u001b[39;00m\n\u001b[1;32m    173\u001b[0m \u001b[38;5;66;03m#y_21= k21@np.linalg.inv(k11+eps)@(y_11)\u001b[39;00m\n\u001b[0;32m--> 174\u001b[0m sigma21 \u001b[38;5;241m=\u001b[39m k22 \u001b[38;5;241m-\u001b[39m (\u001b[43mk21\u001b[49m\u001b[38;5;129;43m@np\u001b[39;49m\u001b[38;5;241;43m.\u001b[39;49m\u001b[43mlinalg\u001b[49m\u001b[38;5;241;43m.\u001b[39;49m\u001b[43minv\u001b[49m\u001b[43m(\u001b[49m\u001b[43mk11\u001b[49m\u001b[38;5;241;43m+\u001b[39;49m\u001b[43meps\u001b[49m\u001b[43m)\u001b[49m\u001b[38;5;129;43m@k12\u001b[39;49m)           \n\u001b[1;32m    175\u001b[0m \u001b[38;5;66;03m## Predict the standard deviation of all entires (data set 2) given the known samples (data set 1)\u001b[39;00m\n\u001b[1;32m    176\u001b[0m y_21_std \u001b[38;5;241m=\u001b[39m np\u001b[38;5;241m.\u001b[39msqrt(np\u001b[38;5;241m.\u001b[39mabs(np\u001b[38;5;241m.\u001b[39meinsum(\u001b[38;5;124m\"\u001b[39m\u001b[38;5;124m...ii->...i\u001b[39m\u001b[38;5;124m\"\u001b[39m, sigma21)))\n",
      "\u001b[0;31mMemoryError\u001b[0m: Unable to allocate 73.8 GiB for an array with shape (10, 3780, 512, 512) and data type float64"
     ]
    }
   ],
   "source": [
    "#ds.estimate_covariance(\"average\", elements_to_average=100)\n",
    "#ds.sample(method=\"fixed_bitrate\", n_samples=63)\n",
    "\n",
    "n_samples = 30\n",
    "bitrate = n_samples/(msh.lx*msh.ly*msh.lz)\n",
    "ds.sample_field(field=fld.registry[\"u\"], field_name=\"u\", covariance_method=\"average\", covariance_elements_to_average=int(msh.nelv/10), compression_method=\"fixed_bitrate\", bitrate = bitrate)\n"
   ]
  },
  {
   "cell_type": "code",
   "execution_count": null,
   "id": "1ff72ebe",
   "metadata": {},
   "outputs": [],
   "source": [
    "# Hack it a bit to make the rest work\n",
    "\n",
    "ds.field = fld.registry[\"u\"]\n",
    "ds.field_sampled = ds.data_to_compress[\"u\"][\"field\"]\n",
    "ds.kw = ds.data_to_compress[\"u\"][\"kw\"]\n",
    "ds.elements_to_average = ds.settings[\"covariance\"][\"elements_to_average\"]\n",
    "ds.n_samples = ds.settings[\"compression\"][\"n_samples\"]"
   ]
  },
  {
   "cell_type": "code",
   "execution_count": null,
   "id": "c1930617",
   "metadata": {},
   "outputs": [],
   "source": [
    "ind_50 = np.where(ds.field_sampled[0] == -50)\n",
    "#print(ds.field[0])\n",
    "#print(ds.field_sampled[0])\n",
    "a = abs(ds.field_sampled[0])-abs(ds.field[0])\n",
    "a[ind_50] = -50\n",
    "print(a)"
   ]
  },
  {
   "cell_type": "code",
   "execution_count": null,
   "id": "e5b716cc",
   "metadata": {},
   "outputs": [],
   "source": [
    "\n",
    "print(ds.field_hat[1466].reshape(-1,1, order='F'))\n",
    "\n",
    "print(\"======\")\n",
    "\n",
    "print(ds.field_sampled[1466].reshape(-1,1, order='F'))"
   ]
  },
  {
   "cell_type": "code",
   "execution_count": null,
   "id": "40c734e9",
   "metadata": {},
   "outputs": [],
   "source": [
    "recon = ds.predict(ds.field_sampled)"
   ]
  },
  {
   "cell_type": "code",
   "execution_count": null,
   "id": "72530f76",
   "metadata": {},
   "outputs": [],
   "source": [
    "fig, ax = plt.subplots(figsize=(5, 2.5), dpi = 200)\n",
    "c = ax.tricontourf(msh.x.flatten(), msh.y.flatten() ,fld.registry[\"u\"].flatten(), levels=100, cmap=\"RdBu_r\")\n",
    "fig.colorbar(c)\n",
    "ax.set_aspect('equal')\n",
    "ax.set_xlabel(\"x\")\n",
    "ax.set_ylabel(\"y\")\n",
    "ax.set_xlim([1.5,6.5])\n",
    "ax.set_ylim([5.5,8.5])\n",
    "plt.show()"
   ]
  },
  {
   "cell_type": "code",
   "execution_count": null,
   "id": "5212b4fb",
   "metadata": {},
   "outputs": [],
   "source": [
    "fig, ax = plt.subplots(figsize=(5, 2.5), dpi = 200)\n",
    "#c = ax.tricontourf(msh.x.flatten(), msh.y.flatten() , fld.registry[\"u\"].flatten() - recon.flatten(), levels=100, cmap=\"RdBu_r\")\n",
    "c = ax.tricontourf(msh.x.flatten(), msh.y.flatten() ,recon.flatten(), levels=100, cmap=\"RdBu_r\")\n",
    "fig.colorbar(c)\n",
    "ax.set_aspect('equal')\n",
    "ax.set_xlabel(\"x\")\n",
    "ax.set_ylabel(\"y\")\n",
    "ax.set_xlim([1.5,6.5])\n",
    "ax.set_ylim([5.5,8.5])\n",
    "plt.show()"
   ]
  },
  {
   "cell_type": "code",
   "execution_count": null,
   "id": "2d15e953",
   "metadata": {},
   "outputs": [],
   "source": [
    "print(np.mean(fld.registry[\"u\"] - recon))"
   ]
  }
 ],
 "metadata": {
  "kernelspec": {
   "display_name": "python3.10",
   "language": "python",
   "name": "python3"
  },
  "language_info": {
   "codemirror_mode": {
    "name": "ipython",
    "version": 3
   },
   "file_extension": ".py",
   "mimetype": "text/x-python",
   "name": "python",
   "nbconvert_exporter": "python",
   "pygments_lexer": "ipython3",
   "version": "3.10.14"
  }
 },
 "nbformat": 4,
 "nbformat_minor": 5
}
