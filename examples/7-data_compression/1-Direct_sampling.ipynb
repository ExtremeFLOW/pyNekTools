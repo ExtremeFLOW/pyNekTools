{
 "cells": [
  {
   "cell_type": "markdown",
   "id": "31a94bbd-34ef-404b-a9be-4f3a216a8c3c",
   "metadata": {},
   "source": [
    "# Direct sampling with Gaussian process regression\n",
    "\n",
    "#### Import general modules\n",
    "\n",
    "mpi4py is always required when using these tools. Numpy is always good to have if any manipulation is to be done."
   ]
  },
  {
   "cell_type": "code",
   "execution_count": 1,
   "id": "8b4ca2be-46e8-443b-ab44-6d1a60abfec4",
   "metadata": {},
   "outputs": [],
   "source": [
    "# Import required modules\n",
    "from mpi4py import MPI #equivalent to the use of MPI_init() in C\n",
    "import matplotlib.pyplot as plt\n",
    "import numpy as np\n",
    "\n",
    "# Get mpi info\n",
    "comm = MPI.COMM_WORLD"
   ]
  },
  {
   "cell_type": "markdown",
   "id": "1702ba96-7854-4a2f-89d2-7f2b2aaa61b1",
   "metadata": {},
   "source": [
    "#### Import modules from pynektools\n",
    "\n",
    "In this case we will import all the data types that we currently support, as well as io functions that are required to populate them."
   ]
  },
  {
   "cell_type": "code",
   "execution_count": 2,
   "id": "09a4efe8-3557-4ff7-850e-0a26c8937bd6",
   "metadata": {},
   "outputs": [],
   "source": [
    "# Data types\n",
    "from pynektools.datatypes.msh import Mesh\n",
    "from pynektools.datatypes.coef import Coef\n",
    "from pynektools.datatypes.field import Field, FieldRegistry\n",
    "\n",
    "# Readers\n",
    "from pynektools.io.ppymech.neksuite import preadnek, pynekread\n",
    "\n",
    "# Writers\n",
    "from pynektools.io.ppymech.neksuite import pwritenek, pynekwrite\n",
    "\n",
    "fname = '/home/adperez/cpc_gaussian_process_compression/data/mixlay/mixlay0.f00001'\n",
    "#fname = '/home/adperez/Documents/gaussian_process/Gaussian Process_0823/data/turbPipe/turbPipe0.f00001'\n"
   ]
  },
  {
   "cell_type": "markdown",
   "id": "865149a9",
   "metadata": {},
   "source": [
    "## Read the data"
   ]
  },
  {
   "cell_type": "code",
   "execution_count": 3,
   "id": "b22e1afb",
   "metadata": {},
   "outputs": [
    {
     "name": "stdout",
     "output_type": "stream",
     "text": [
      "2025-02-22 21:28:18,414 - Mesh - INFO - Initializing empty Mesh object.\n",
      "2025-02-22 21:28:18,415 - Field - INFO - Initializing empty Field object\n",
      "2025-02-22 21:28:18,416 - pynekread - INFO - Reading file: /home/adperez/cpc_gaussian_process_compression/data/mixlay/mixlay0.f00001\n",
      "2025-02-22 21:28:18,423 - Mesh - INFO - Initializing Mesh object from x,y,z ndarrays.\n",
      "2025-02-22 21:28:18,424 - Mesh - INFO - Initializing common attributes.\n",
      "2025-02-22 21:28:18,425 - Mesh - INFO - Getting vertices\n",
      "2025-02-22 21:28:18,427 - Mesh - INFO - Getting edge centers\n",
      "2025-02-22 21:28:18,432 - Mesh - INFO - Facet centers not available for 2D\n",
      "2025-02-22 21:28:18,433 - Mesh - INFO - Mesh object initialized.\n",
      "2025-02-22 21:28:18,434 - Mesh - INFO - Mesh data is of type: float64\n",
      "2025-02-22 21:28:18,434 - Mesh - INFO - Elapsed time: 0.011101215s\n",
      "2025-02-22 21:28:18,435 - pynekread - INFO - Reading field data\n",
      "2025-02-22 21:28:18,441 - pynekread - INFO - File read\n",
      "2025-02-22 21:28:18,442 - pynekread - INFO - Elapsed time: 0.02556405s\n",
      "1466\n",
      "2025-02-22 21:28:18,458 - Coef - INFO - Initializing Coef object\n",
      "2025-02-22 21:28:18,458 - Coef - INFO - Getting derivative matrices\n",
      "2025-02-22 21:28:18,460 - Coef - INFO - Calculating the components of the jacobian\n",
      "2025-02-22 21:28:18,477 - Coef - INFO - Calculating the jacobian determinant and inverse of the jacobian matrix\n",
      "2025-02-22 21:28:18,480 - Coef - INFO - Calculating the mass matrix\n",
      "2025-02-22 21:28:18,481 - Coef - INFO - Coef object initialized\n",
      "2025-02-22 21:28:18,481 - Coef - INFO - Coef data is of type: float64\n",
      "2025-02-22 21:28:18,481 - Coef - INFO - Elapsed time: 0.023747616s\n"
     ]
    }
   ],
   "source": [
    "msh = Mesh(comm, create_connectivity=False)\n",
    "fld = FieldRegistry(comm)\n",
    "\n",
    "pynekread(fname, comm, data_dtype=np.double, msh = msh, fld = fld)\n",
    "\n",
    "for e in range(msh.nelv):\n",
    "    if (np.min(msh.x[e]), np.max(msh.x[e])) == (0, 0.25):\n",
    "        if (np.min(msh.y[e]), np.max(msh.y[e])) == (0, 1.1399999856948853):\n",
    "            print(e)\n",
    "    \n",
    "coef = Coef(msh=msh, comm=comm)"
   ]
  },
  {
   "cell_type": "markdown",
   "id": "8c9c9159",
   "metadata": {},
   "source": [
    "## Compress the data with GPR\n",
    "\n",
    "### Initialize the Direct sampler"
   ]
  },
  {
   "cell_type": "code",
   "execution_count": 4,
   "id": "18c47836",
   "metadata": {},
   "outputs": [
    {
     "name": "stdout",
     "output_type": "stream",
     "text": [
      "2025-02-22 21:28:18,521 - DirectSampler - INFO - Initializing the DirectSampler from a Mesh object\n"
     ]
    }
   ],
   "source": [
    "from pynektools.compression.gpc_direct_sampling import DirectSampler\n",
    "\n",
    "ds = DirectSampler(comm=comm, msh=msh)"
   ]
  },
  {
   "cell_type": "markdown",
   "id": "f164250d",
   "metadata": {},
   "source": [
    "### Sample the data"
   ]
  },
  {
   "cell_type": "code",
   "execution_count": 5,
   "id": "643cc825",
   "metadata": {},
   "outputs": [
    {
     "name": "stdout",
     "output_type": "stream",
     "text": [
      "2025-02-22 21:28:18,536 - DirectSampler - INFO - Sampling the field with options: covariance_method: {covariance_method}, compression_method: {compression_method}\n",
      "2025-02-22 21:28:18,538 - DirectSampler - INFO - Estimating the covariance matrix\n",
      "2025-02-22 21:28:18,538 - DirectSampler - INFO - Transforming the field into to legendre space\n",
      "2025-02-22 21:28:18,543 - DirectSampler - INFO - Estimating the covariance matrix using the SVD method. Keeping 3 modes\n",
      "2025-02-22 21:28:18,558 - DirectSampler - INFO - U saved in field data_to_compress[\"u\"][\"U\"]\n",
      "2025-02-22 21:28:18,560 - DirectSampler - INFO - s saved in field data_to_compress[\"u\"][\"s\"]\n",
      "2025-02-22 21:28:18,568 - DirectSampler - INFO - Vt saved in field data_to_compress[\"u\"][\"Vt\"]\n",
      "2025-02-22 21:28:18,569 - DirectSampler - INFO - Sampling the field using the fixed bitrate method. using settings: {'method': 'fixed_bitrate', 'bitrate': np.float64(0.015625), 'n_samples': 1}\n",
      "2025-02-22 21:28:18,570 - DirectSampler - INFO - Proccesing up to 256/1600 element\n",
      "2025-02-22 21:28:18,570 - DirectSampler - INFO - Obtaining the covariance matrix for the current chunk\n",
      "2025-02-22 21:28:18,587 - DirectSampler - INFO - Obtaining sample 1/1\n",
      "2025-02-22 21:28:18,618 - DirectSampler - INFO - Proccesing up to 512/1600 element\n",
      "2025-02-22 21:28:18,620 - DirectSampler - INFO - Obtaining the covariance matrix for the current chunk\n",
      "2025-02-22 21:28:18,632 - DirectSampler - INFO - Obtaining sample 1/1\n",
      "2025-02-22 21:28:18,654 - DirectSampler - INFO - Proccesing up to 768/1600 element\n",
      "2025-02-22 21:28:18,655 - DirectSampler - INFO - Obtaining the covariance matrix for the current chunk\n",
      "2025-02-22 21:28:18,661 - DirectSampler - INFO - Obtaining sample 1/1\n",
      "2025-02-22 21:28:18,678 - DirectSampler - INFO - Proccesing up to 1024/1600 element\n",
      "2025-02-22 21:28:18,679 - DirectSampler - INFO - Obtaining the covariance matrix for the current chunk\n",
      "2025-02-22 21:28:18,684 - DirectSampler - INFO - Obtaining sample 1/1\n",
      "2025-02-22 21:28:18,700 - DirectSampler - INFO - Proccesing up to 1280/1600 element\n",
      "2025-02-22 21:28:18,701 - DirectSampler - INFO - Obtaining the covariance matrix for the current chunk\n",
      "2025-02-22 21:28:18,707 - DirectSampler - INFO - Obtaining sample 1/1\n",
      "2025-02-22 21:28:18,726 - DirectSampler - INFO - Proccesing up to 1536/1600 element\n",
      "2025-02-22 21:28:18,726 - DirectSampler - INFO - Obtaining the covariance matrix for the current chunk\n",
      "2025-02-22 21:28:18,733 - DirectSampler - INFO - Obtaining sample 1/1\n",
      "2025-02-22 21:28:18,750 - DirectSampler - INFO - Proccesing up to 1600/1600 element\n",
      "2025-02-22 21:28:18,750 - DirectSampler - INFO - Obtaining the covariance matrix for the current chunk\n",
      "2025-02-22 21:28:18,753 - DirectSampler - INFO - Obtaining sample 1/1\n",
      "2025-02-22 21:28:18,759 - DirectSampler - INFO - Sampled_field saved in field data_to_compress[\"u\"][\"field\"]\n",
      "2025-02-22 21:28:18,760 - DirectSampler - INFO - Elapsed time: 0.22444431999999997s\n"
     ]
    }
   ],
   "source": [
    "ds.log.tic()\n",
    "\n",
    "# Select the options\n",
    "n_samples = 1\n",
    "bitrate = n_samples/(msh.lx*msh.ly*msh.lz)\n",
    "\n",
    "# Sample here\n",
    "ds.sample_field(field=fld.registry[\"u\"], field_name=\"u\", covariance_method=\"svd\", compression_method=\"fixed_bitrate\", bitrate = bitrate, covariance_keep_modes=3)\n",
    "#ds.sample_field(field=fld.registry[\"u\"], field_name=\"u\", covariance_method=\"average\", covariance_elements_to_average=int(msh.nelv/16), compression_method=\"fixed_bitrate\", bitrate = bitrate)\n",
    "#ds.sample_field(field=fld.registry[\"u\"], field_name=\"u\", covariance_method=\"average\", covariance_elements_to_average=10, compression_method=\"fixed_bitrate\", bitrate = bitrate)\n",
    "\n",
    "ds.log.toc()"
   ]
  },
  {
   "cell_type": "markdown",
   "id": "f1d18c96",
   "metadata": {},
   "source": [
    "### Encode it"
   ]
  },
  {
   "cell_type": "code",
   "execution_count": 6,
   "id": "9829e0c2",
   "metadata": {},
   "outputs": [
    {
     "name": "stdout",
     "output_type": "stream",
     "text": [
      "2025-02-22 21:28:18,769 - DirectSampler - INFO - Compressing the data using the lossless compressor: bzip2\n",
      "2025-02-22 21:28:18,770 - DirectSampler - INFO - Compressing data in data_to_compress\n",
      "2025-02-22 21:28:18,775 - DirectSampler - INFO - Compressing data for field [\"u\"]:\n",
      "2025-02-22 21:28:18,776 - DirectSampler - INFO - Compressing [\"U\"] for field [\"u\"]\n",
      "2025-02-22 21:28:18,787 - DirectSampler - INFO - Compressing [\"s\"] for field [\"u\"]\n",
      "2025-02-22 21:28:18,789 - DirectSampler - INFO - Compressing [\"Vt\"] for field [\"u\"]\n",
      "2025-02-22 21:28:18,790 - DirectSampler - INFO - Compressing [\"field\"] for field [\"u\"]\n",
      "dict_keys(['U', 's', 'Vt', 'field'])\n"
     ]
    }
   ],
   "source": [
    "ds.compress_samples(lossless_compressor=\"bzip2\")\n",
    "print(ds.compressed_data[\"u\"].keys())"
   ]
  },
  {
   "cell_type": "markdown",
   "id": "62966413",
   "metadata": {},
   "source": [
    "### Write it out"
   ]
  },
  {
   "cell_type": "code",
   "execution_count": 7,
   "id": "e3075fb3",
   "metadata": {},
   "outputs": [
    {
     "name": "stdout",
     "output_type": "stream",
     "text": [
      "2025-02-22 21:28:19,011 - DirectSampler - INFO - Parallel HDF5 not available; creating folder to store rank files.\n"
     ]
    }
   ],
   "source": [
    "ds.write_compressed_samples(comm=comm, filename=\"test\")"
   ]
  },
  {
   "cell_type": "code",
   "execution_count": 8,
   "id": "e869571c",
   "metadata": {},
   "outputs": [
    {
     "name": "stdout",
     "output_type": "stream",
     "text": [
      "(1600, 1, 8, 8)\n",
      "(1600, 3)\n",
      "(3,)\n",
      "(3, 64)\n"
     ]
    }
   ],
   "source": [
    "print(ds.uncompressed_data[\"u\"][\"field\"].shape)\n",
    "#print(ds.data_to_compress[\"u\"][\"kw\"].shape)\n",
    "print(ds.uncompressed_data[\"u\"][\"U\"].shape)\n",
    "print(ds.uncompressed_data[\"u\"][\"s\"].shape)\n",
    "print(ds.uncompressed_data[\"u\"][\"Vt\"].shape)"
   ]
  },
  {
   "cell_type": "markdown",
   "id": "1a9fdaa6",
   "metadata": {},
   "source": [
    "### Read the data in another object"
   ]
  },
  {
   "cell_type": "code",
   "execution_count": 9,
   "id": "5ee7b6ab",
   "metadata": {},
   "outputs": [
    {
     "name": "stdout",
     "output_type": "stream",
     "text": [
      "2025-02-22 21:28:19,036 - DirectSampler - INFO - Initializing the DirectSampler from file: test\n",
      "reading\n"
     ]
    }
   ],
   "source": [
    "ds_read = DirectSampler(comm, filename=\"test\")\n",
    "\n"
   ]
  },
  {
   "cell_type": "code",
   "execution_count": 10,
   "id": "6e67d15a",
   "metadata": {},
   "outputs": [
    {
     "name": "stdout",
     "output_type": "stream",
     "text": [
      "{'dtype': 'double', 'mesh_information': {'lx': np.int64(8), 'ly': np.int64(8), 'lz': np.int64(1), 'nelv': np.int64(1600), 'gdim': 2}, 'covariance': {'method': 'svd', 'averages': np.int64(1600), 'elements_to_average': 1, 'keep_modes': 3, 'kw_diag': True}, 'compression': {'method': 'fixed_bitrate', 'bitrate': np.float64(0.015625), 'n_samples': 1}}\n",
      "{'dtype': 'double', 'compression': {'bitrate': np.float64(0.015625), 'method': 'fixed_bitrate', 'n_samples': np.int64(1)}, 'covariance': {'averages': np.int64(1600), 'elements_to_average': np.int64(1), 'keep_modes': np.int64(3), 'kw_diag': np.True_, 'method': 'svd'}, 'mesh_information': {'gdim': np.int64(2), 'lx': np.int64(8), 'ly': np.int64(8), 'lz': np.int64(1), 'nelv': np.int64(1600)}}\n",
      "=============================\n",
      "dtype double\n",
      "dtype double\n",
      "=============================\n",
      "compression {'method': 'fixed_bitrate', 'bitrate': np.float64(0.015625), 'n_samples': 1}\n",
      "compression {'bitrate': np.float64(0.015625), 'method': 'fixed_bitrate', 'n_samples': np.int64(1)}\n",
      "=============================\n",
      "covariance {'method': 'svd', 'averages': np.int64(1600), 'elements_to_average': 1, 'keep_modes': 3, 'kw_diag': True}\n",
      "covariance {'averages': np.int64(1600), 'elements_to_average': np.int64(1), 'keep_modes': np.int64(3), 'kw_diag': np.True_, 'method': 'svd'}\n",
      "=============================\n",
      "mesh_information {'lx': np.int64(8), 'ly': np.int64(8), 'lz': np.int64(1), 'nelv': np.int64(1600), 'gdim': 2}\n",
      "mesh_information {'gdim': np.int64(2), 'lx': np.int64(8), 'ly': np.int64(8), 'lz': np.int64(1), 'nelv': np.int64(1600)}\n"
     ]
    }
   ],
   "source": [
    "print(ds.settings)\n",
    "print(ds_read.settings)\n",
    "\n",
    "for key in ds_read.settings.keys():\n",
    "    print(\"=============================\")\n",
    "    print(key, ds.settings[key])\n",
    "    print(key, ds_read.settings[key])"
   ]
  },
  {
   "cell_type": "code",
   "execution_count": 11,
   "id": "36a80d99",
   "metadata": {},
   "outputs": [
    {
     "name": "stdout",
     "output_type": "stream",
     "text": [
      "0.0\n",
      "0.0\n",
      "0.0\n",
      "0.0\n",
      "0.0\n",
      "0.0\n"
     ]
    },
    {
     "ename": "SystemExit",
     "evalue": "0",
     "output_type": "error",
     "traceback": [
      "An exception has occurred, use %tb to see the full traceback.\n",
      "\u001b[0;31mSystemExit\u001b[0m\u001b[0;31m:\u001b[0m 0\n"
     ]
    },
    {
     "name": "stderr",
     "output_type": "stream",
     "text": [
      "/home/adperez/software/miniconda3/.conda/envs/python3.10/lib/python3.10/site-packages/IPython/core/interactiveshell.py:3585: UserWarning: To exit: use 'exit', 'quit', or Ctrl-D.\n",
      "  warn(\"To exit: use 'exit', 'quit', or Ctrl-D.\", stacklevel=1)\n"
     ]
    }
   ],
   "source": [
    "t1 = ds_read.uncompressed_data[\"u\"][\"field\"] - ds.uncompressed_data[\"u\"][\"field\"]\n",
    "\n",
    "#t2 = decompressed_data[\"u\"][\"kw\"] - ds.data_to_compress[\"u\"][\"kw\"]\n",
    "t2 = ds_read.uncompressed_data[\"u\"][\"U\"] - ds.uncompressed_data[\"u\"][\"U\"]\n",
    "#t2 = decompressed_data[\"u\"][\"s\"] - ds.data_to_compress[\"u\"][\"s\"]\n",
    "#t2 = decompressed_data[\"u\"][\"Vt\"] - ds.data_to_compress[\"u\"][\"Vt\"]\n",
    "\n",
    "\n",
    "print(np.max(t1))\n",
    "print(np.min(t1))\n",
    "print(np.max(t2))\n",
    "print(np.min(t2))\n",
    "print(np.mean(t1))\n",
    "print(np.mean(t2))\n",
    "\n",
    "import sys\n",
    "sys.exit(0)"
   ]
  },
  {
   "cell_type": "code",
   "execution_count": null,
   "id": "ce6076bc",
   "metadata": {},
   "outputs": [],
   "source": [
    "ds_read = DirectSampler(comm=comm, msh=msh)\n",
    "\n",
    "settings, compressed_data = ds_read.read_compressed_samples(comm=comm, filename=\"test\")\n",
    "print(compressed_data.keys())\n",
    "print(compressed_data[\"u\"].keys())\n",
    "print(compressed_data[\"u\"][\"field\"])\n",
    "#print(compressed_data[\"u\"][\"kw\"])\n",
    "print(settings)"
   ]
  },
  {
   "cell_type": "code",
   "execution_count": null,
   "id": "ccddf0c9",
   "metadata": {},
   "outputs": [],
   "source": [
    "decompressed_data = ds.decompress_samples(settings, compressed_data)\n",
    "print(decompressed_data.keys())\n",
    "\n",
    "#print(decompressed_data[\"u\"].keys())\n",
    "#print(decompressed_data[\"u\"][\"field\"])\n",
    "\n",
    "\n"
   ]
  },
  {
   "cell_type": "code",
   "execution_count": null,
   "id": "3cbe0021",
   "metadata": {},
   "outputs": [],
   "source": [
    "t1 = decompressed_data[\"u\"][\"field\"] - ds.uncompressed_data[\"u\"][\"field\"]\n",
    "\n",
    "#t2 = decompressed_data[\"u\"][\"kw\"] - ds.data_to_compress[\"u\"][\"kw\"]\n",
    "t2 = decompressed_data[\"u\"][\"U\"] - ds.uncompressed_data[\"u\"][\"U\"]\n",
    "#t2 = decompressed_data[\"u\"][\"s\"] - ds.data_to_compress[\"u\"][\"s\"]\n",
    "#t2 = decompressed_data[\"u\"][\"Vt\"] - ds.data_to_compress[\"u\"][\"Vt\"]\n",
    "\n",
    "\n",
    "print(np.max(t1))\n",
    "print(np.min(t1))\n",
    "print(np.max(t2))\n",
    "print(np.min(t2))\n",
    "print(np.mean(t1))\n",
    "print(np.mean(t2))\n"
   ]
  },
  {
   "cell_type": "code",
   "execution_count": null,
   "id": "39e6ef4a",
   "metadata": {},
   "outputs": [],
   "source": [
    "# Check the difference between settings and ds.settings\n",
    "print(settings)\n",
    "print(ds.settings)\n",
    "\n",
    "\n",
    "\n",
    "import h5py\n",
    "with h5py.File(\"test_comp/test_rank_0.h5\", \"r\") as f:\n",
    "    \n",
    "    for key in f.keys():\n",
    "    \n",
    "            item = f[key]\n",
    "            print(\"  \" + key)\n",
    "\n",
    "    print(f.keys())\n",
    "    print(\"\\n\")\n",
    "\n",
    "    print(f[\"rank_0\"][\"u\"].keys())\n",
    "\n"
   ]
  },
  {
   "cell_type": "code",
   "execution_count": null,
   "id": "e1942dfd",
   "metadata": {},
   "outputs": [],
   "source": [
    "print(ds_read.settings)\n",
    "print(settings)\n",
    "\n",
    "if True == np.True_:\n",
    "    print(\"True\")"
   ]
  },
  {
   "cell_type": "code",
   "execution_count": null,
   "id": "e6ca56a7",
   "metadata": {},
   "outputs": [],
   "source": [
    "import sys\n",
    "sys.exit(0)"
   ]
  },
  {
   "cell_type": "code",
   "execution_count": null,
   "id": "1ff72ebe",
   "metadata": {},
   "outputs": [],
   "source": [
    "# Hack it a bit to make the rest work\n",
    "\n",
    "ds.field = fld.registry[\"u\"]\n",
    "ds.field_sampled = ds.uncompre[\"u\"][\"field\"]\n",
    "#ds.kw = ds.data_to_compress[\"u\"][\"kw\"]\n",
    "\n",
    "averages = ds.settings[\"covariance\"][\"averages\"]\n",
    "elements_to_average = ds.settings[\"covariance\"][\"elements_to_average\"]\n",
    "\n",
    "if ds.settings[\"covariance\"][\"method\"] == \"svd\":\n",
    "    # Retrieve the SVD components\n",
    "    U = ds.uncompre[f\"u\"][\"U\"]\n",
    "    s = ds.uncompre[f\"u\"][\"s\"]\n",
    "    Vt = ds.uncompre[f\"u\"][\"Vt\"]\n",
    "\n",
    "    # Construct the f_hat\n",
    "    f_hat = np.einsum(\"ik,k,kj->ij\", U, s, Vt)\n",
    "\n",
    "    # This is the way in which I calculate the covariance here and then get the diagonals\n",
    "    if ds.kw_diag == True:\n",
    "        # Get the covariances\n",
    "        kw_ = np.einsum(\"eik,ekj->eij\", f_hat.reshape(averages*elements_to_average,-1,1), f_hat.reshape(averages*elements_to_average,-1,1).transpose(0,2,1))\n",
    "        # Extract only the diagonals\n",
    "        kw_ = np.einsum(\"...ii->...i\", kw_)\n",
    "        \n",
    "    else:\n",
    "        # But I can leave the calculation of the covariance itself for later and store here the average of field_hat\n",
    "        kw_ = f_hat.reshape(averages*elements_to_average,-1,1)\n",
    "\n",
    "    ds.kw = kw_\n",
    "\n",
    "else:\n",
    "    ds.kw = ds.uncompre[f\"u\"][\"kw\"]\n",
    "\n",
    "\n",
    "\n",
    "print(ds.kw.shape)\n",
    "\n",
    "ds.elements_to_average = ds.settings[\"covariance\"][\"elements_to_average\"]\n",
    "ds.n_samples = ds.settings[\"compression\"][\"n_samples\"]"
   ]
  },
  {
   "cell_type": "code",
   "execution_count": null,
   "id": "c1930617",
   "metadata": {},
   "outputs": [],
   "source": [
    "ind_50 = np.where(ds.field_sampled[0] == -50)\n",
    "#print(ds.field[0])\n",
    "#print(ds.field_sampled[0])\n",
    "a = abs(ds.field_sampled[0])-abs(ds.field[0])\n",
    "a[ind_50] = -50\n",
    "print(a)\n",
    "\n",
    "for e in range(msh.nelv):\n",
    "    ind_50 = np.where(ds.field_sampled[e] == -50)\n",
    "    if len(ind_50[0]) > n_samples:\n",
    "        print(e, len(ind_50[0]))"
   ]
  },
  {
   "cell_type": "code",
   "execution_count": null,
   "id": "e5b716cc",
   "metadata": {},
   "outputs": [],
   "source": [
    "\n",
    "print(ds.field_hat[1466].reshape(-1,1, order='F'))\n",
    "\n",
    "print(\"======\")\n",
    "\n",
    "print(ds.field_sampled[1466].reshape(-1,1, order='F'))"
   ]
  },
  {
   "cell_type": "code",
   "execution_count": null,
   "id": "40c734e9",
   "metadata": {},
   "outputs": [
    {
     "ename": "AttributeError",
     "evalue": "'DirectSampler' object has no attribute 'field_sampled'",
     "output_type": "error",
     "traceback": [
      "\u001b[0;31m---------------------------------------------------------------------------\u001b[0m",
      "\u001b[0;31mAttributeError\u001b[0m                            Traceback (most recent call last)",
      "Cell \u001b[0;32mIn[16], line 2\u001b[0m\n\u001b[1;32m      1\u001b[0m \u001b[38;5;66;03m#recon = ds.predict(ds.field_sampled)\u001b[39;00m\n\u001b[0;32m----> 2\u001b[0m recon \u001b[38;5;241m=\u001b[39m ds_read\u001b[38;5;241m.\u001b[39mpredict(\u001b[43mds\u001b[49m\u001b[38;5;241;43m.\u001b[39;49m\u001b[43mfield_sampled\u001b[49m)\n",
      "\u001b[0;31mAttributeError\u001b[0m: 'DirectSampler' object has no attribute 'field_sampled'"
     ]
    }
   ],
   "source": [
    "recon = ds.predict(ds.field_sampled)\n"
   ]
  },
  {
   "cell_type": "code",
   "execution_count": null,
   "id": "72530f76",
   "metadata": {},
   "outputs": [],
   "source": [
    "fig, ax = plt.subplots(figsize=(5, 2.5), dpi = 200)\n",
    "c = ax.tricontourf(msh.x.flatten(), msh.y.flatten() ,fld.registry[\"u\"].flatten(), levels=100, cmap=\"RdBu_r\")\n",
    "fig.colorbar(c)\n",
    "ax.set_aspect('equal')\n",
    "ax.set_xlabel(\"x\")\n",
    "ax.set_ylabel(\"y\")\n",
    "ax.set_xlim([1.5,6.5])\n",
    "ax.set_ylim([5.5,8.5])\n",
    "plt.show()"
   ]
  },
  {
   "cell_type": "code",
   "execution_count": null,
   "id": "5212b4fb",
   "metadata": {},
   "outputs": [],
   "source": [
    "fig, ax = plt.subplots(figsize=(5, 2.5), dpi = 200)\n",
    "#c = ax.tricontourf(msh.x.flatten(), msh.y.flatten() , fld.registry[\"u\"].flatten() - recon.flatten(), levels=100, cmap=\"RdBu_r\")\n",
    "c = ax.tricontourf(msh.x.flatten(), msh.y.flatten() ,recon.flatten(), levels=100, cmap=\"RdBu_r\")\n",
    "fig.colorbar(c)\n",
    "ax.set_aspect('equal')\n",
    "ax.set_xlabel(\"x\")\n",
    "ax.set_ylabel(\"y\")\n",
    "ax.set_xlim([1.5,6.5])\n",
    "ax.set_ylim([5.5,8.5])\n",
    "plt.show()"
   ]
  },
  {
   "cell_type": "code",
   "execution_count": null,
   "id": "2d15e953",
   "metadata": {},
   "outputs": [],
   "source": [
    "print(np.mean(fld.registry[\"u\"] - recon))\n",
    "print(np.max(abs(fld.registry[\"u\"] - recon)))\n",
    "print(np.min(abs(fld.registry[\"u\"] - recon)))"
   ]
  },
  {
   "cell_type": "code",
   "execution_count": null,
   "id": "45a078d1",
   "metadata": {},
   "outputs": [],
   "source": [
    "print(ds.settings)"
   ]
  }
 ],
 "metadata": {
  "kernelspec": {
   "display_name": "python3.10",
   "language": "python",
   "name": "python3"
  },
  "language_info": {
   "codemirror_mode": {
    "name": "ipython",
    "version": 3
   },
   "file_extension": ".py",
   "mimetype": "text/x-python",
   "name": "python",
   "nbconvert_exporter": "python",
   "pygments_lexer": "ipython3",
   "version": "3.10.14"
  }
 },
 "nbformat": 4,
 "nbformat_minor": 5
}
