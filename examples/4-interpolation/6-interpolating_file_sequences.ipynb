{
 "cells": [
  {
   "cell_type": "markdown",
   "id": "31a94bbd-34ef-404b-a9be-4f3a216a8c3c",
   "metadata": {},
   "source": [
    "# Interpolating file sequences\n",
    "\n",
    "For cases in which interpolation is needed, one must interpolate a series of files. Here we show how that can be done easily."
   ]
  },
  {
   "cell_type": "markdown",
   "id": "f9ad6337-6ba4-47c7-b687-0bf119a5b637",
   "metadata": {},
   "source": [
    "#### Import general modules"
   ]
  },
  {
   "cell_type": "code",
   "execution_count": 1,
   "id": "8b4ca2be-46e8-443b-ab44-6d1a60abfec4",
   "metadata": {},
   "outputs": [],
   "source": [
    "# Import required modules\n",
    "from mpi4py import MPI #equivalent to the use of MPI_init() in C\n",
    "import matplotlib.pyplot as plt\n",
    "import numpy as np\n",
    "\n",
    "# Get mpi info\n",
    "comm = MPI.COMM_WORLD\n",
    "\n",
    "# Hide the log for the notebook. Not recommended when running in clusters as it is better you see what happens\n",
    "import os\n",
    "os.environ[\"PYNEKTOOLS_HIDE_LOG\"] = 'true'"
   ]
  },
  {
   "cell_type": "markdown",
   "id": "1702ba96-7854-4a2f-89d2-7f2b2aaa61b1",
   "metadata": {},
   "source": [
    "#### Import modules from pysemtools"
   ]
  },
  {
   "cell_type": "code",
   "execution_count": 2,
   "id": "b1954162",
   "metadata": {},
   "outputs": [],
   "source": [
    "from pysemtools.interpolation.wrappers import interpolate_fields_from_disk"
   ]
  },
  {
   "cell_type": "markdown",
   "id": "6afda340",
   "metadata": {},
   "source": [
    "## Interpolate fields from a list\n",
    "\n",
    "\n",
    "First we will define the inputs. For this, we need the name of the file that has the points, the name of the file that contains the spectral element mesh and optionally the name of the outputs. The latter defaults to intepolated_fields.hdf5"
   ]
  },
  {
   "cell_type": "code",
   "execution_count": 3,
   "id": "d5b67e85",
   "metadata": {},
   "outputs": [],
   "source": [
    "query_points_fname = \"points.hdf5\"\n",
    "data_path = \"../data/sem_data/instantaneous/cylinder_rbc_nelv_600/\"\n",
    "sem_mesh_fname = f\"{data_path}field0.f00801\"\n",
    "interpolated_fields_output_fname = \"interpolated_fields.hdf5\""
   ]
  },
  {
   "cell_type": "markdown",
   "id": "ade457dd",
   "metadata": {},
   "source": [
    "Additionally, we need a dictionary that we call settings. Here we give the information about where the fields will be read from.\n",
    "\n",
    "We can provide as an input the file name sequence to be read by the interpolator. Or one can provide a file index produces by the indexing module of pysemtools.\n",
    "\n",
    "Lastly we must say which fields to interpolate. If one passes the list with the string \"all\", all fields in the file are interpolated."
   ]
  },
  {
   "cell_type": "code",
   "execution_count": 4,
   "id": "396b0e99",
   "metadata": {},
   "outputs": [],
   "source": [
    "# Comment the option that you do not want to use\n",
    "\n",
    "# Option 1 (if you have created an index file before)\n",
    "field_interpolation_dictionary = {}\n",
    "field_interpolation_dictionary['input_type'] = \"file_index\"\n",
    "field_interpolation_dictionary['file_index'] = f\"{data_path}field_index.json\"\n",
    "field_interpolation_dictionary['fields_to_interpolate'] = [\"all\"]\n",
    "\n",
    "# Option 2 directly provide the names of the sequence of files you want to interpolate\n",
    "field_interpolation_dictionary = {}\n",
    "field_interpolation_dictionary['input_type'] = \"file_sequence\"\n",
    "field_interpolation_dictionary['file_sequence'] = [f\"{data_path}field0.f{str(i).zfill(5)}\" for i in range(801, 850)]\n",
    "field_interpolation_dictionary['fields_to_interpolate'] = [\"all\"]"
   ]
  },
  {
   "cell_type": "code",
   "execution_count": 5,
   "id": "56e5dcd5",
   "metadata": {},
   "outputs": [],
   "source": [
    "interpolate_fields_from_disk(comm, query_points_fname, sem_mesh_fname, field_interpolation_dictionary, interpolated_fields_output_fname=interpolated_fields_output_fname)"
   ]
  },
  {
   "cell_type": "markdown",
   "id": "2f0fbbf9",
   "metadata": {},
   "source": [
    "Now you are done! If you want to see more of what really happened in this script. Comment out the line that hides the log at the begining of this notebook."
   ]
  }
 ],
 "metadata": {
  "kernelspec": {
   "display_name": "Python 3 (ipykernel)",
   "language": "python",
   "name": "python3"
  },
  "language_info": {
   "codemirror_mode": {
    "name": "ipython",
    "version": 3
   },
   "file_extension": ".py",
   "mimetype": "text/x-python",
   "name": "python",
   "nbconvert_exporter": "python",
   "pygments_lexer": "ipython3",
   "version": "3.10.14"
  }
 },
 "nbformat": 4,
 "nbformat_minor": 5
}
