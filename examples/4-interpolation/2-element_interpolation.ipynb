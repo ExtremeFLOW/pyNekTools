{
 "cells": [
  {
   "cell_type": "markdown",
   "id": "31a94bbd-34ef-404b-a9be-4f3a216a8c3c",
   "metadata": {},
   "source": [
    "# Element distribution interpolation\n",
    "\n",
    "In this example we show how to perform interpolations that keep the same element structure.\n",
    "\n",
    "Two examples of this are:\n",
    "\n",
    "1. Mapping the GLL points of each element into a different distribution.\n",
    "2. Perfomring P refinement, i.e., map to points of the same distribution but a different degree."
   ]
  },
  {
   "cell_type": "markdown",
   "id": "f9ad6337-6ba4-47c7-b687-0bf119a5b637",
   "metadata": {},
   "source": [
    "#### Import general modules"
   ]
  },
  {
   "cell_type": "code",
   "execution_count": 1,
   "id": "8b4ca2be-46e8-443b-ab44-6d1a60abfec4",
   "metadata": {},
   "outputs": [],
   "source": [
    "# Import required modules\n",
    "from mpi4py import MPI #equivalent to the use of MPI_init() in C\n",
    "import matplotlib.pyplot as plt\n",
    "import numpy as np\n",
    "\n",
    "# Get mpi info\n",
    "comm = MPI.COMM_WORLD"
   ]
  },
  {
   "cell_type": "markdown",
   "id": "1702ba96-7854-4a2f-89d2-7f2b2aaa61b1",
   "metadata": {},
   "source": [
    "#### Import modules from pynek"
   ]
  },
  {
   "cell_type": "code",
   "execution_count": 2,
   "id": "09a4efe8-3557-4ff7-850e-0a26c8937bd6",
   "metadata": {},
   "outputs": [],
   "source": [
    "from pynektools.io.ppymech.neksuite import pynekread, pynekwrite\n",
    "from pynektools.datatypes.msh import Mesh\n",
    "from pynektools.datatypes.field import FieldRegistry"
   ]
  },
  {
   "cell_type": "markdown",
   "id": "63764358",
   "metadata": {},
   "source": [
    "## Read the data and build objects\n",
    "\n",
    "In this instance, we create connectivity for the mesh object, given that we wish to use direct stiffness summation to reduce discontinuities."
   ]
  },
  {
   "cell_type": "code",
   "execution_count": 3,
   "id": "116a2e64",
   "metadata": {},
   "outputs": [
    {
     "name": "stdout",
     "output_type": "stream",
     "text": [
      "2024-08-25 23:03:57,096 - Mesh - INFO - Initializing empty Mesh object.\n",
      "2024-08-25 23:03:57,098 - Field - INFO - Initializing empty Field object\n",
      "2024-08-25 23:03:57,099 - pynekread - INFO - Reading file: ../data/tc_channel0.f00001\n",
      "2024-08-25 23:03:57,113 - Mesh - INFO - Initializing Mesh object from x,y,z ndarrays.\n",
      "2024-08-25 23:03:57,114 - Mesh - INFO - Initializing common attributes.\n",
      "2024-08-25 23:03:57,114 - Mesh - INFO - Creating connectivity\n",
      "2024-08-25 23:03:57,319 - Mesh - INFO - Mesh object initialized.\n",
      "2024-08-25 23:03:57,320 - Mesh - INFO - Mesh data is of type: float64\n",
      "2024-08-25 23:03:57,320 - Mesh - INFO - Elapsed time: 0.207341994s\n",
      "2024-08-25 23:03:57,321 - pynekread - INFO - Reading field data\n",
      "2024-08-25 23:03:57,329 - pynekread - INFO - File read\n",
      "2024-08-25 23:03:57,330 - pynekread - INFO - Elapsed time: 0.23145508s\n"
     ]
    }
   ],
   "source": [
    "msh = Mesh(comm, create_connectivity=True)\n",
    "fld = FieldRegistry(comm)\n",
    "pynekread('../data/tc_channel0.f00001', comm, data_dtype=np.double, msh=msh, fld=fld)"
   ]
  },
  {
   "cell_type": "markdown",
   "id": "45d0bf3a",
   "metadata": {},
   "source": [
    "## Mapping to a new distribution\n",
    "\n",
    "We can map to a new distribution of points in any of the dimensions of the element at the same time.\n",
    "\n",
    "Here we show an example where this is done to an equidistant mesh in the z direction.\n",
    "\n",
    "For this we use the PMapper class."
   ]
  },
  {
   "cell_type": "code",
   "execution_count": 4,
   "id": "cea2e84e",
   "metadata": {},
   "outputs": [
    {
     "name": "stdout",
     "output_type": "stream",
     "text": [
      "2024-08-25 23:03:57,919 - Mesh - INFO - Initializing Mesh object from x,y,z ndarrays.\n",
      "2024-08-25 23:03:57,920 - Mesh - INFO - Initializing common attributes.\n",
      "2024-08-25 23:03:57,920 - Mesh - INFO - Creating connectivity\n",
      "2024-08-25 23:03:58,145 - Mesh - INFO - Mesh object initialized.\n",
      "2024-08-25 23:03:58,146 - Mesh - INFO - Mesh data is of type: float64\n",
      "2024-08-25 23:03:58,146 - Mesh - INFO - Elapsed time: 0.2272013530000001s\n",
      "2024-08-25 23:03:58,507 - Field - INFO - Initializing empty Field object\n",
      "2024-08-25 23:03:58,508 - pynekwrite - INFO - Writing file: mappedfield0.f00001\n",
      "2024-08-25 23:03:58,518 - pynekwrite - INFO - Elapsed time: 0.009620887999999939s\n"
     ]
    }
   ],
   "source": [
    "# Import the module\n",
    "from pynektools.interpolation.mesh_to_mesh import PMapper\n",
    "\n",
    "# Here specify that it should be equal in the 3 direction\n",
    "mapper = PMapper(n=msh.lx, distribution=['GLL', 'GLL', 'EQ'])\n",
    "\n",
    "# Create the mesh with the new distribution\n",
    "eq_msh = mapper.get_new_mesh(comm, msh=msh)\n",
    "\n",
    "# Interpolate the fields. They are passed as a list and returned as a list\n",
    "mapped_fields = mapper.interpolate_from_field_list(comm, field_list=[fld.registry['u'],fld.registry['v'],fld.registry['w']])\n",
    "\n",
    "# Create an empty field object for the equidistant fields\n",
    "eq_fld = FieldRegistry(comm)\n",
    "eq_fld.add_field(comm, field_name='u', field=mapped_fields[0], dtype = np.double)\n",
    "eq_fld.add_field(comm, field_name='v', field=mapped_fields[1], dtype = np.double)\n",
    "eq_fld.add_field(comm, field_name='w', field=mapped_fields[2], dtype = np.double)\n",
    "\n",
    "# Write the new mesh and fields\n",
    "fname = \"mappedfield0.f00001\"\n",
    "pynekwrite(fname, comm, msh=eq_msh, fld=eq_fld, write_mesh=True, wdsz=4)"
   ]
  },
  {
   "cell_type": "markdown",
   "id": "c45a389c",
   "metadata": {},
   "source": [
    "## Performing P refinement\n",
    "\n",
    "In some instances one wishes to keep the GLL distribution to perform integration or derivation but doing so at higher or lower polynomiar order. For this cases one can employ p refinement/coarsening. We show now how that can be done.\n",
    "\n"
   ]
  },
  {
   "cell_type": "code",
   "execution_count": 5,
   "id": "5a3844e4",
   "metadata": {},
   "outputs": [
    {
     "name": "stdout",
     "output_type": "stream",
     "text": [
      "2024-08-25 23:03:58,879 - Mesh - INFO - Initializing Mesh object from x,y,z ndarrays.\n",
      "2024-08-25 23:03:58,880 - Mesh - INFO - Initializing common attributes.\n",
      "2024-08-25 23:03:58,880 - Mesh - INFO - Creating connectivity\n",
      "2024-08-25 23:03:58,905 - Mesh - INFO - Mesh object initialized.\n",
      "2024-08-25 23:03:58,906 - Mesh - INFO - Mesh data is of type: float64\n",
      "2024-08-25 23:03:58,906 - Mesh - INFO - Elapsed time: 0.027189482999999903s\n",
      "2024-08-25 23:03:59,260 - Field - INFO - Initializing empty Field object\n",
      "2024-08-25 23:03:59,261 - pynekwrite - INFO - Writing file: refinedfield0.f00001\n",
      "2024-08-25 23:03:59,266 - pynekwrite - INFO - Elapsed time: 0.004223237000000157s\n"
     ]
    }
   ],
   "source": [
    "# Import the module\n",
    "from pynektools.interpolation.mesh_to_mesh import PRefiner\n",
    "\n",
    "# Here specify that it should be equal in the 3 direction\n",
    "pr = PRefiner(n_old = msh.lx, n_new = 3)\n",
    "\n",
    "# Create the mesh with the new distribution\n",
    "r_msh = pr.get_new_mesh(comm, msh=msh)\n",
    "\n",
    "# Interpolate the fields. They are passed as a list and returned as a list\n",
    "r_fields = pr.interpolate_from_field_list(comm, field_list=[fld.registry['u'],fld.registry['v'],fld.registry['w']])\n",
    "\n",
    "# Create an empty field object for the equidistant fields\n",
    "r_fld = FieldRegistry(comm)\n",
    "r_fld.add_field(comm, field_name='u', field=r_fields[0], dtype = np.double)\n",
    "r_fld.add_field(comm, field_name='v', field=r_fields[1], dtype = np.double)\n",
    "r_fld.add_field(comm, field_name='w', field=r_fields[2], dtype = np.double)\n",
    "\n",
    "# Write the new mesh and fields\n",
    "fname = \"refinedfield0.f00001\"\n",
    "pynekwrite(fname, comm, msh=r_msh, fld=r_fld, write_mesh=True, wdsz=4)"
   ]
  }
 ],
 "metadata": {
  "kernelspec": {
   "display_name": "Python 3 (ipykernel)",
   "language": "python",
   "name": "python3"
  },
  "language_info": {
   "codemirror_mode": {
    "name": "ipython",
    "version": 3
   },
   "file_extension": ".py",
   "mimetype": "text/x-python",
   "name": "python",
   "nbconvert_exporter": "python",
   "pygments_lexer": "ipython3",
   "version": "3.10.14"
  }
 },
 "nbformat": 4,
 "nbformat_minor": 5
}
