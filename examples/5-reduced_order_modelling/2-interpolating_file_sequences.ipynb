{
 "cells": [
  {
   "cell_type": "markdown",
   "id": "31a94bbd-34ef-404b-a9be-4f3a216a8c3c",
   "metadata": {},
   "source": [
    "# Interpolating file sequences\n",
    "\n",
    "For cases in which interpolation is needed, one must interpolate a series of files. Here we show how that can be done easily."
   ]
  },
  {
   "cell_type": "markdown",
   "id": "f9ad6337-6ba4-47c7-b687-0bf119a5b637",
   "metadata": {},
   "source": [
    "#### Import general modules"
   ]
  },
  {
   "cell_type": "code",
   "execution_count": 1,
   "id": "8b4ca2be-46e8-443b-ab44-6d1a60abfec4",
   "metadata": {},
   "outputs": [],
   "source": [
    "# Import required modules\n",
    "from mpi4py import MPI #equivalent to the use of MPI_init() in C\n",
    "import matplotlib.pyplot as plt\n",
    "import numpy as np\n",
    "\n",
    "# Get mpi info\n",
    "comm = MPI.COMM_WORLD"
   ]
  },
  {
   "cell_type": "markdown",
   "id": "1702ba96-7854-4a2f-89d2-7f2b2aaa61b1",
   "metadata": {},
   "source": [
    "#### Import modules from pynektools"
   ]
  },
  {
   "cell_type": "markdown",
   "id": "1c582e13",
   "metadata": {},
   "source": []
  },
  {
   "cell_type": "markdown",
   "id": "6afda340",
   "metadata": {},
   "source": [
    "## Initialize the field series interpolator"
   ]
  },
  {
   "cell_type": "code",
   "execution_count": 2,
   "id": "d5b67e85",
   "metadata": {},
   "outputs": [],
   "source": [
    "query_points_fname = \"points.hdf5\"\n",
    "data_path = \"../data/sem_data/instantaneous/cylinder_rbc_nelv_600/\"\n",
    "sem_mesh_fname = f\"{data_path}field0.f00801\"\n",
    "\n",
    "# Probes optional inputs\n",
    "interpolated_fields_output_fname = \"interpolated_fields.hdf5\"\n",
    "dtype = np.single\n",
    "write_coords = True\n",
    "point_interpolator_type='multiple_point_legendre_numpy'\n",
    "max_pts=256\n",
    "find_points_comm_pattern='point_to_point'\n",
    "elem_percent_expansion = 0.01\n",
    "global_tree_type = \"rank_bbox\"\n",
    "global_tree_nbins = 1024,\n",
    "use_autograd = False\n",
    "find_points_tol = np.finfo(np.double).eps * 10,\n",
    "find_points_max_iter = 50"
   ]
  },
  {
   "cell_type": "code",
   "execution_count": null,
   "id": "6b96df28",
   "metadata": {},
   "outputs": [],
   "source": [
    "from pynektools.io.ppymech.neksuite import pynekread\n",
    "from pynektools.datatypes.msh import Mesh\n",
    "from pynektools.datatypes.field import FieldRegistry\n",
    "from pynektools.interpolation.probes import Probes\n",
    "\n",
    "probes = Probes(comm,\n",
    "        output_fname = interpolated_fields_output_fname,\n",
    "        probes = query_points_fname,\n",
    "        msh = sem_mesh_fname,\n",
    "        write_coords  = write_coords,\n",
    "        point_interpolator_type = point_interpolator_type,\n",
    "        max_pts = max_pts,\n",
    "        find_points_comm_pattern = find_points_comm_pattern ,\n",
    "        elem_percent_expansion = elem_percent_expansion,\n",
    "        global_tree_type = global_tree_type,\n",
    "        global_tree_nbins = global_tree_nbins,\n",
    "        use_autograd = use_autograd,\n",
    "        find_points_tol = find_points_tol,\n",
    "        find_points_max_iter = find_points_max_iter,\n",
    "    )\n"
   ]
  },
  {
   "cell_type": "code",
   "execution_count": null,
   "id": "396b0e99",
   "metadata": {},
   "outputs": [],
   "source": [
    "field_interpolation_dictionary = {}\n",
    "\n",
    "field_interpolation_dictionary['input_type'] = \"file_sequence\" # or file_index\n",
    "field_interpolation_dictionary['file_sequence'] = [f\"{data_path}field0.f{str(i).zfill(5)}\" for i in range(801, 850)]\n",
    "field_interpolation_dictionary['fields_to_interpolate'] = [\"all\"]\n",
    "\n",
    "fld = FieldRegistry(comm)\n",
    "\n",
    "for fname in field_interpolation_dictionary['file_sequence']:\n",
    "\n",
    "    # Read the field in the sequence    \n",
    "    pynekread(fname, comm, data_dtype=dtype, fld=fld)\n",
    "\n",
    "    # Prepare a list with the inputs\n",
    "    if field_interpolation_dictionary['fields_to_interpolate'] == [\"all\"]:\n",
    "        field_list = [fld.registry[key] for key in fld.registry.keys()] \n",
    "        field_names = [key for key in fld.registry.keys()]\n",
    "    else:\n",
    "        field_list = [fld.registry[key] for key in field_interpolation_dictionary['fields_to_interpolate']]\n",
    "        field_names = field_interpolation_dictionary['fields_to_interpolate']\n",
    "        \n",
    "    # Interpolate the fields\n",
    "    probes.interpolate_from_field_list(fld.t, field_list, comm, write_data=True, field_names=field_names)\n",
    "\n",
    "    # Clear the fields\n",
    "    fld.clear()\n"
   ]
  }
 ],
 "metadata": {
  "kernelspec": {
   "display_name": "Python 3 (ipykernel)",
   "language": "python",
   "name": "python3"
  },
  "language_info": {
   "codemirror_mode": {
    "name": "ipython",
    "version": 3
   },
   "file_extension": ".py",
   "mimetype": "text/x-python",
   "name": "python",
   "nbconvert_exporter": "python",
   "pygments_lexer": "ipython3",
   "version": "3.10.14"
  }
 },
 "nbformat": 4,
 "nbformat_minor": 5
}
