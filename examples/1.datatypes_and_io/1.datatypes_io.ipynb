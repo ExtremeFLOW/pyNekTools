{
 "cells": [
  {
   "cell_type": "markdown",
   "id": "31a94bbd-34ef-404b-a9be-4f3a216a8c3c",
   "metadata": {},
   "source": [
    "# Data types and IO\n",
    "\n",
    "## Import general modules\n",
    "\n",
    "mpi4py is always required when using these tools. Numpy is always good to have if any manipulation is to be done."
   ]
  },
  {
   "cell_type": "code",
   "execution_count": 28,
   "id": "8b4ca2be-46e8-443b-ab44-6d1a60abfec4",
   "metadata": {},
   "outputs": [],
   "source": [
    "# Import required modules\n",
    "from mpi4py import MPI #equivalent to the use of MPI_init() in C\n",
    "import matplotlib.pyplot as plt\n",
    "import numpy as np\n",
    "\n",
    "# Get mpi info\n",
    "comm = MPI.COMM_WORLD"
   ]
  },
  {
   "cell_type": "markdown",
   "id": "1702ba96-7854-4a2f-89d2-7f2b2aaa61b1",
   "metadata": {},
   "source": [
    "## Import modules from pynektools\n",
    "\n",
    "In this case we will import all the data types that we currently support, as well as io functions that are required to populate them."
   ]
  },
  {
   "cell_type": "code",
   "execution_count": 29,
   "id": "09a4efe8-3557-4ff7-850e-0a26c8937bd6",
   "metadata": {},
   "outputs": [],
   "source": [
    "# Data types\n",
    "from pynektools.datatypes.msh import Mesh\n",
    "from pynektools.datatypes.coef import Coef\n",
    "from pynektools.datatypes.field import Field, FieldRegistry\n",
    "\n",
    "# Readers\n",
    "from pynektools.io.ppymech.neksuite import preadnek, pynekread\n",
    "\n",
    "# Writers\n",
    "from pynektools.io.ppymech.neksuite import pwritenek, pynekwrite\n",
    "\n",
    "fname_2d = '../data/mixlay0.f00001'\n",
    "fname_3d = '../data/rbc0.f00001'"
   ]
  },
  {
   "cell_type": "markdown",
   "id": "6346fcd3",
   "metadata": {},
   "source": [
    "## Mesh\n",
    "\n",
    "The mesh object is designed to interact with the coordinates of the SEM domain. It goes without saying then, that if a file is used to initialize the object, it must contain the mesh.\n",
    "\n",
    "### Initializing\n",
    "\n",
    "The mesh object can be initialized in multiple manners that we have ideantified to be typical when post processing data, here we show some of them.\n",
    "\n",
    "#### Initializing an empty object\n",
    "\n",
    "We can initialize an empty mesh object by just providing the communicator.\n",
    "\n",
    "Note that at this stage we must indicate if we want to find the connectivity of the points. This is important if later one whishes to average points at element interfaces. Be carefull, however, as it will require more memory."
   ]
  },
  {
   "cell_type": "code",
   "execution_count": 30,
   "id": "b22e1afb",
   "metadata": {},
   "outputs": [
    {
     "name": "stdout",
     "output_type": "stream",
     "text": [
      "2024-08-25 18:10:55,401 - Mesh - INFO - Initializing empty Mesh object.\n",
      "2024-08-25 18:10:55,405 - Mesh - INFO - Initializing empty Mesh object.\n"
     ]
    }
   ],
   "source": [
    "msh_2d = Mesh(comm, create_connectivity=True)\n",
    "msh_3d = Mesh(comm, create_connectivity=True)"
   ]
  },
  {
   "cell_type": "markdown",
   "id": "4c572df8",
   "metadata": {},
   "source": [
    "#### Initializing from a file\n",
    "\n",
    "The standard way to initialize the data in a mesh object requires that an empty object is initialized and the the pynekread function is called. This function will take the empty object and read only the data containing the mesh.\n",
    "\n",
    "One must give the name and the empty object that will hold the data. Aditionally, the type of the data is an input."
   ]
  },
  {
   "cell_type": "code",
   "execution_count": 31,
   "id": "4661b6f9",
   "metadata": {},
   "outputs": [
    {
     "name": "stdout",
     "output_type": "stream",
     "text": [
      "2024-08-25 18:10:55,418 - pynekread - INFO - Reading file: ../data/mixlay0.f00001\n",
      "2024-08-25 18:10:55,423 - Mesh - INFO - Initializing Mesh object from x,y,z ndarrays.\n",
      "2024-08-25 18:10:55,424 - Mesh - INFO - Initializing common attributes.\n",
      "2024-08-25 18:10:55,424 - Mesh - INFO - Creating connectivity\n",
      "2024-08-25 18:10:55,594 - Mesh - INFO - Mesh object initialized.\n",
      "2024-08-25 18:10:55,595 - Mesh - INFO - Mesh data is of type: float64\n",
      "2024-08-25 18:10:55,595 - Mesh - INFO - Elapsed time: 0.1720835430000065s\n",
      "2024-08-25 18:10:55,596 - pynekread - INFO - File read\n",
      "2024-08-25 18:10:55,596 - pynekread - INFO - Elapsed time: 0.17810414799999563s\n",
      "2024-08-25 18:10:55,597 - pynekread - INFO - Reading file: ../data/rbc0.f00001\n",
      "2024-08-25 18:10:55,606 - Mesh - INFO - Initializing Mesh object from x,y,z ndarrays.\n",
      "2024-08-25 18:10:55,607 - Mesh - INFO - Initializing common attributes.\n",
      "2024-08-25 18:10:55,607 - Mesh - INFO - Creating connectivity\n",
      "2024-08-25 18:10:55,843 - Mesh - INFO - Mesh object initialized.\n",
      "2024-08-25 18:10:55,843 - Mesh - INFO - Mesh data is of type: float32\n",
      "2024-08-25 18:10:55,844 - Mesh - INFO - Elapsed time: 0.23830231000000168s\n",
      "2024-08-25 18:10:55,845 - pynekread - INFO - File read\n",
      "2024-08-25 18:10:55,846 - pynekread - INFO - Elapsed time: 0.24902925699999656s\n"
     ]
    }
   ],
   "source": [
    "pynekread(fname_2d, comm, data_dtype=np.double, msh=msh_2d)\n",
    "pynekread(fname_3d, comm, data_dtype=np.single, msh=msh_3d)"
   ]
  },
  {
   "cell_type": "markdown",
   "id": "0294b29f",
   "metadata": {},
   "source": [
    "#### Initializing from a hexadata object.\n",
    "\n",
    "We have previously use the module pymech to post process data. Because of this we wrote io routines that produce objects of this type, in case some existing workflows already rely on that. We note that this is parallel and each rank will have a hexadata object with a portion of the total data.\n",
    "\n",
    "Note that in our implementation, the hexadata object will always read the full file.\n",
    "\n",
    "In general, this should not be the main way to initialize objects. But we give the option.\n",
    "\n",
    "The steps that we follow to initialize are the following:\n",
    "\n",
    "1. Read the hexadata object.\n",
    "2. Initialize the mesh object from it"
   ]
  },
  {
   "cell_type": "code",
   "execution_count": 32,
   "id": "497dfc22",
   "metadata": {},
   "outputs": [
    {
     "name": "stdout",
     "output_type": "stream",
     "text": [
      "2024-08-25 18:10:55,855 - preadnek - INFO - Reading file: ../data/mixlay0.f00001\n",
      "2024-08-25 18:10:55,892 - preadnek - INFO - Elapsed time: 0.03770125200000507s\n",
      "2024-08-25 18:10:55,896 - preadnek - INFO - Reading file: ../data/rbc0.f00001\n",
      "2024-08-25 18:10:55,917 - preadnek - INFO - Elapsed time: 0.020351303000005316s\n",
      "2024-08-25 18:10:55,919 - Mesh - INFO - Initializing Mesh object from HexaData object.\n",
      "2024-08-25 18:10:55,923 - Mesh - INFO - Initializing common attributes.\n",
      "2024-08-25 18:10:55,924 - Mesh - INFO - Creating connectivity\n",
      "2024-08-25 18:10:56,110 - Mesh - INFO - Mesh object initialized.\n",
      "2024-08-25 18:10:56,111 - Mesh - INFO - Mesh data is of type: float64\n",
      "2024-08-25 18:10:56,111 - Mesh - INFO - Elapsed time: 0.19232999399999784s\n",
      "2024-08-25 18:10:56,114 - Mesh - INFO - Initializing Mesh object from HexaData object.\n",
      "2024-08-25 18:10:56,117 - Mesh - INFO - Initializing common attributes.\n",
      "2024-08-25 18:10:56,118 - Mesh - INFO - Creating connectivity\n",
      "2024-08-25 18:10:56,386 - Mesh - INFO - Mesh object initialized.\n",
      "2024-08-25 18:10:56,387 - Mesh - INFO - Mesh data is of type: float32\n",
      "2024-08-25 18:10:56,387 - Mesh - INFO - Elapsed time: 0.27376900200000165s\n"
     ]
    }
   ],
   "source": [
    "# 1.\n",
    "data_2d = preadnek(fname_2d, comm, data_dtype=np.double)\n",
    "data_3d = preadnek(fname_3d, comm, data_dtype=np.single)\n",
    "# 2. \n",
    "msh_2d = Mesh(comm, data=data_2d, create_connectivity=True)\n",
    "msh_3d = Mesh(comm, data=data_3d, create_connectivity=True)"
   ]
  },
  {
   "cell_type": "markdown",
   "id": "0a02212f",
   "metadata": {},
   "source": [
    "#### Initializing from an ndarray\n",
    "\n",
    "In some instances, one might create the SEM coordinates directly in python. If that is the case, starting directly from the coordinates as an array is also a possibility. One would first create an empty object and the initialize from coordinates as follow:"
   ]
  },
  {
   "cell_type": "code",
   "execution_count": 33,
   "id": "f41cd795",
   "metadata": {},
   "outputs": [
    {
     "name": "stdout",
     "output_type": "stream",
     "text": [
      "2024-08-25 18:10:56,400 - Mesh - INFO - Initializing empty Mesh object.\n",
      "2024-08-25 18:10:56,405 - Mesh - INFO - Initializing Mesh object from x,y,z ndarrays.\n",
      "2024-08-25 18:10:56,406 - Mesh - INFO - Initializing common attributes.\n",
      "2024-08-25 18:10:56,408 - Mesh - INFO - Creating connectivity\n",
      "2024-08-25 18:10:56,575 - Mesh - INFO - Mesh object initialized.\n",
      "2024-08-25 18:10:56,576 - Mesh - INFO - Mesh data is of type: float64\n",
      "2024-08-25 18:10:56,576 - Mesh - INFO - Elapsed time: 0.17083027199999634s\n"
     ]
    }
   ],
   "source": [
    "# 1.Copy the coordinates from before just to show\n",
    "\n",
    "x = msh_3d.x.copy().astype(np.float64)\n",
    "y = msh_3d.y.copy().astype(np.float64)\n",
    "z = msh_3d.z.copy().astype(np.float64)\n",
    "\n",
    "# 2.Initialize a new mesh object\n",
    "msh_3d_sub = Mesh(comm, create_connectivity=True)\n",
    "msh_3d_sub.init_from_coords(comm, x=x, y=y, z=z)"
   ]
  },
  {
   "cell_type": "markdown",
   "id": "5eaed0ce",
   "metadata": {},
   "source": [
    "In this case, just to show a simple manipulation, we casted the arrays from single to double precision"
   ]
  },
  {
   "cell_type": "markdown",
   "id": "302ee56f",
   "metadata": {},
   "source": [
    "## Coef\n",
    "\n",
    "The coef object holds the jacobian matrix components, mass matrix and routines to perform derivatives and integrals in the SEM mesh. It is always initialized from a mesh object.\n",
    "\n",
    "One aditional option for 3D meshes is to also obtain integration weights for the area of the facets in the SEM mesh. If you do not need it, do not activate it, as this takes some extra time and requires extra memory.\n",
    "\n",
    "The data type of the coef object attributes will match the type of the mesh object."
   ]
  },
  {
   "cell_type": "code",
   "execution_count": 34,
   "id": "ecddac2b",
   "metadata": {},
   "outputs": [
    {
     "name": "stdout",
     "output_type": "stream",
     "text": [
      "2024-08-25 18:10:56,584 - Coef - INFO - Initializing Coef object\n",
      "2024-08-25 18:10:56,585 - Coef - INFO - Getting derivative matrices\n",
      "2024-08-25 18:10:56,587 - Coef - INFO - Calculating the components of the jacobian\n",
      "2024-08-25 18:10:56,593 - Coef - INFO - Calculating the jacobian determinant and inverse of the jacobian matrix\n",
      "2024-08-25 18:10:56,595 - Coef - INFO - Calculating the mass matrix\n",
      "2024-08-25 18:10:56,596 - Coef - INFO - Coef object initialized\n",
      "2024-08-25 18:10:56,597 - Coef - INFO - Coef data is of type: float64\n",
      "2024-08-25 18:10:56,598 - Coef - INFO - Elapsed time: 0.014231588000001238s\n",
      "2024-08-25 18:10:56,599 - Coef - INFO - Initializing Coef object\n",
      "2024-08-25 18:10:56,599 - Coef - INFO - Getting derivative matrices\n",
      "2024-08-25 18:10:56,601 - Coef - INFO - Calculating the components of the jacobian\n",
      "2024-08-25 18:10:56,653 - Coef - INFO - Calculating the jacobian determinant and inverse of the jacobian matrix\n",
      "2024-08-25 18:10:56,658 - Coef - INFO - Calculating the mass matrix\n",
      "2024-08-25 18:10:56,659 - Coef - INFO - Calculating area weights and normal vectors\n",
      "2024-08-25 18:10:56,668 - Coef - INFO - Coef object initialized\n",
      "2024-08-25 18:10:56,669 - Coef - INFO - Coef data is of type: float32\n",
      "2024-08-25 18:10:56,669 - Coef - INFO - Elapsed time: 0.07072883700000432s\n"
     ]
    }
   ],
   "source": [
    "coef_2d = Coef(msh_2d, comm, get_area=True)\n",
    "coef_3d = Coef(msh_3d, comm, get_area=True)"
   ]
  },
  {
   "cell_type": "markdown",
   "id": "1ef68b13",
   "metadata": {},
   "source": [
    "## Field\n",
    "\n",
    "The field object is designed to hold the data from SEM fields in a way that intefacing to a nek5000 binary file is easily achieved.\n",
    "\n",
    "The initialization can be done in similar ways as the mesh, i.e., by using hexadata and the pynekread routine.\n",
    "\n",
    "### Initializing\n",
    "\n",
    "#### Initializing an empty object.\n",
    "\n",
    "We follow the same procedure to initialize an empty object."
   ]
  },
  {
   "cell_type": "code",
   "execution_count": 35,
   "id": "dbb690c0",
   "metadata": {},
   "outputs": [
    {
     "name": "stdout",
     "output_type": "stream",
     "text": [
      "2024-08-25 18:10:56,676 - Field - INFO - Initializing empty Field object\n",
      "2024-08-25 18:10:56,677 - Field - INFO - Initializing empty Field object\n"
     ]
    }
   ],
   "source": [
    "fld_2d = Field(comm)\n",
    "fld_3d = Field(comm)"
   ]
  },
  {
   "cell_type": "markdown",
   "id": "01910bb8",
   "metadata": {},
   "source": [
    "#### Initializing from a file\n",
    "\n",
    "Using the pynekread routine, one can follow the same procedure. In this case, if only the fld file is indicated as input, the mesh in the file will not be read"
   ]
  },
  {
   "cell_type": "code",
   "execution_count": 36,
   "id": "33762bb6",
   "metadata": {},
   "outputs": [
    {
     "name": "stdout",
     "output_type": "stream",
     "text": [
      "2024-08-25 18:10:56,685 - pynekread - INFO - Reading file: ../data/mixlay0.f00001\n",
      "2024-08-25 18:10:56,687 - pynekread - INFO - Reading field data\n",
      "2024-08-25 18:10:56,690 - pynekread - INFO - File read\n",
      "2024-08-25 18:10:56,690 - pynekread - INFO - Elapsed time: 0.005375012999998319s\n",
      "2024-08-25 18:10:56,691 - pynekread - INFO - Reading file: ../data/rbc0.f00001\n",
      "2024-08-25 18:10:56,693 - pynekread - INFO - Reading field data\n",
      "2024-08-25 18:10:56,697 - pynekread - INFO - File read\n",
      "2024-08-25 18:10:56,697 - pynekread - INFO - Elapsed time: 0.006215997999994727s\n"
     ]
    }
   ],
   "source": [
    "pynekread(fname_2d, comm, data_dtype=np.double, fld=fld_2d)\n",
    "pynekread(fname_3d, comm, data_dtype=np.single, fld=fld_3d)"
   ]
  },
  {
   "cell_type": "markdown",
   "id": "95844571",
   "metadata": {},
   "source": [
    "Note that you can read both mesh and fields with pynekread if you specify both keywords, i.e, msh= and fld=\n"
   ]
  },
  {
   "cell_type": "markdown",
   "id": "d6e3b4f5",
   "metadata": {},
   "source": [
    "#### Initializing from hexadata\n",
    "\n",
    "Just as for the mesh, the same interface is valid."
   ]
  },
  {
   "cell_type": "code",
   "execution_count": 37,
   "id": "9b0fd7b0",
   "metadata": {},
   "outputs": [
    {
     "name": "stdout",
     "output_type": "stream",
     "text": [
      "2024-08-25 18:10:56,705 - preadnek - INFO - Reading file: ../data/mixlay0.f00001\n",
      "2024-08-25 18:10:56,738 - preadnek - INFO - Elapsed time: 0.03298570900000186s\n",
      "2024-08-25 18:10:56,741 - preadnek - INFO - Reading file: ../data/rbc0.f00001\n",
      "2024-08-25 18:10:56,758 - preadnek - INFO - Elapsed time: 0.017400371999997333s\n",
      "2024-08-25 18:10:56,760 - Field - INFO - Initializing Field object from HexaData\n",
      "2024-08-25 18:10:56,767 - Field - INFO - Field object initialized\n",
      "2024-08-25 18:10:56,768 - Field - INFO - Elapsed time: 0.008142607999999996s\n",
      "2024-08-25 18:10:56,769 - Field - INFO - Initializing Field object from HexaData\n",
      "2024-08-25 18:10:56,773 - Field - INFO - Field object initialized\n",
      "2024-08-25 18:10:56,774 - Field - INFO - Elapsed time: 0.004961447999995983s\n"
     ]
    }
   ],
   "source": [
    "# 1.\n",
    "data_2d = preadnek(fname_2d, comm, data_dtype=np.double)\n",
    "data_3d = preadnek(fname_3d, comm, data_dtype=np.single)\n",
    "# 2. \n",
    "fld_2d = Field(comm, data=data_2d)\n",
    "fld_3d = Field(comm, data=data_3d)"
   ]
  },
  {
   "cell_type": "markdown",
   "id": "b687633b",
   "metadata": {},
   "source": [
    "\n",
    "### Contents of the field object\n",
    "\n",
    "The field object contains all the information in a subdirectory called fields that is divided into the conventions of a nek5000 binary format.\n",
    "\n",
    "The keywords are:"
   ]
  },
  {
   "cell_type": "code",
   "execution_count": 38,
   "id": "654270d9",
   "metadata": {},
   "outputs": [
    {
     "name": "stdout",
     "output_type": "stream",
     "text": [
      "vel has 2 fields\n",
      "pres has 1 fields\n",
      "temp has 1 fields\n",
      "scal has 2 fields\n",
      "=================\n",
      "vel has 3 fields\n",
      "pres has 1 fields\n",
      "temp has 1 fields\n",
      "scal has 0 fields\n"
     ]
    }
   ],
   "source": [
    "for key in fld_2d.fields.keys():\n",
    "    print(f'{key} has {len(fld_2d.fields[key])} fields')\n",
    "\n",
    "print('=================')\n",
    "\n",
    "for key in fld_3d.fields.keys():\n",
    "    print(f'{key} has {len(fld_3d.fields[key])} fields')"
   ]
  },
  {
   "cell_type": "markdown",
   "id": "84754dc4",
   "metadata": {},
   "source": [
    "Each keword has a list of fields depending on the contents of the file. Note how the 2 files that we test here have different information.\n",
    "\n",
    "To access the content of the files, one can do something like this:"
   ]
  },
  {
   "cell_type": "code",
   "execution_count": 39,
   "id": "f82a497f",
   "metadata": {},
   "outputs": [],
   "source": [
    "u = fld_3d.fields['vel'][0]\n",
    "v = fld_3d.fields['vel'][1]\n",
    "w = fld_3d.fields['vel'][2]\n",
    "p = fld_3d.fields['pres'][0]\n",
    "t = fld_3d.fields['temp'][0]"
   ]
  },
  {
   "cell_type": "markdown",
   "id": "3cccc3ac",
   "metadata": {},
   "source": [
    "### Adding new ndarrays to the field\n",
    "\n",
    "If one wishes to add new data, it is as simple as appending arrays to any of the keys of the field object. Given that nek5000 readers follow certain logic, it is always safer to add new data to the scalars, unless one wishes to overwrite velocity, pressure, and/or temperature.\n",
    "\n",
    "For example, we can add the velocity magnitude as a scalar with:"
   ]
  },
  {
   "cell_type": "code",
   "execution_count": 40,
   "id": "b52d0af6",
   "metadata": {},
   "outputs": [],
   "source": [
    "mag = np.sqrt(u**2 + v**2 + w**2)\n",
    "fld_3d.fields['scal'].append(mag)\n",
    "fld_3d.update_vars()"
   ]
  },
  {
   "cell_type": "markdown",
   "id": "23e30993",
   "metadata": {},
   "source": [
    "If one adds new data, it is needed that one calls the update_vars method to update the attributes that keep track of the number of fields in the field object. This is needed, for example, if one wishes to write data to disk."
   ]
  },
  {
   "cell_type": "markdown",
   "id": "36fdc7c0",
   "metadata": {},
   "source": [
    "## Writing out data\n",
    "\n",
    "Writing the data out always needs a mesh and field object, even if one does not wish to write the mesh out.\n",
    "\n",
    "The procedure is as simple as follows:"
   ]
  },
  {
   "cell_type": "code",
   "execution_count": 41,
   "id": "232bf604",
   "metadata": {},
   "outputs": [
    {
     "name": "stdout",
     "output_type": "stream",
     "text": [
      "2024-08-25 18:10:56,801 - pynekwrite - INFO - Writing file: ../data/out_rbc0.f00001\n",
      "2024-08-25 18:10:56,811 - pynekwrite - INFO - Elapsed time: 0.010595846000001075s\n"
     ]
    }
   ],
   "source": [
    "fname_out = '../data/out_rbc0.f00001'\n",
    "\n",
    "pynekwrite(fname_out, comm, msh=msh_3d, fld=fld_3d, write_mesh=True, wdsz=4)"
   ]
  },
  {
   "cell_type": "markdown",
   "id": "06fff76a",
   "metadata": {},
   "source": [
    "## Field registry\n",
    "\n",
    "The field registry is a class that extends the field class. We believe this is the class that should be used instead of fields, as it allows to do the same things, but with some extra flexibility.\n",
    "\n",
    "The methods to initialize it and write data with it are the same. It also contains the fields attribute with a list of the present fields. \n",
    "\n",
    "It however, has an additional registry attribute that names and points to each field."
   ]
  },
  {
   "cell_type": "code",
   "execution_count": 42,
   "id": "f48be38b",
   "metadata": {},
   "outputs": [
    {
     "name": "stdout",
     "output_type": "stream",
     "text": [
      "2024-08-25 18:10:56,818 - Field - INFO - Initializing empty Field object\n",
      "2024-08-25 18:10:56,819 - pynekread - INFO - Reading file: ../data/rbc0.f00001\n",
      "2024-08-25 18:10:56,821 - pynekread - INFO - Reading field data\n",
      "2024-08-25 18:10:56,824 - pynekread - INFO - File read\n",
      "2024-08-25 18:10:56,825 - pynekread - INFO - Elapsed time: 0.006072815000003118s\n"
     ]
    }
   ],
   "source": [
    "fld_3d_r = FieldRegistry(comm)\n",
    "pynekread(fname_3d, comm, data_dtype=np.single, fld=fld_3d_r)"
   ]
  },
  {
   "cell_type": "code",
   "execution_count": 43,
   "id": "a5ef0284",
   "metadata": {},
   "outputs": [
    {
     "name": "stdout",
     "output_type": "stream",
     "text": [
      "u has float32 dtype\n",
      "v has float32 dtype\n",
      "w has float32 dtype\n",
      "p has float32 dtype\n",
      "t has float32 dtype\n"
     ]
    }
   ],
   "source": [
    "for key in fld_3d_r.registry.keys():\n",
    "    print(f'{key} has {fld_3d_r.registry[key].dtype} dtype')"
   ]
  },
  {
   "cell_type": "markdown",
   "id": "68927c40",
   "metadata": {},
   "source": [
    "Note that all the fields that have been adressed as indices in a list have now been assigned names.\n",
    "\n",
    "### Adding new fields\n",
    "\n",
    "#### From memory\n",
    "\n",
    "Adding new fields can now also been done very easy as well. Here we can add a new field named mag that is the velocity magnitude calculated earlier.\n",
    "\n",
    "This field will be added as an scalar to the fields attribute."
   ]
  },
  {
   "cell_type": "code",
   "execution_count": 44,
   "id": "48727eb8",
   "metadata": {},
   "outputs": [
    {
     "name": "stdout",
     "output_type": "stream",
     "text": [
      "Field mag added to registry and fields directory in pos scal_0\n"
     ]
    }
   ],
   "source": [
    "fld_3d_r.add_field(comm, field_name='mag', field=mag, dtype=mag.dtype)\n",
    "print(f'Field mag added to registry and fields directory in pos {fld_3d_r.registry_pos[\"mag\"]}')"
   ]
  },
  {
   "cell_type": "markdown",
   "id": "098766e9",
   "metadata": {},
   "source": [
    "#### From disk\n",
    "\n",
    "You can also just read one field from a file, which reduces the memory footprint.\n",
    "\n",
    "The procesude is shown below, note that here we know that we have written the field mag as an scalar."
   ]
  },
  {
   "cell_type": "code",
   "execution_count": 45,
   "id": "f25fc8db",
   "metadata": {},
   "outputs": [
    {
     "name": "stdout",
     "output_type": "stream",
     "text": [
      "2024-08-25 18:10:56,848 - pynekread_field - INFO - Reading field: scal_0 from file: ../data/out_rbc0.f00001\n",
      "2024-08-25 18:10:56,851 - pynekread_field - INFO - File read\n",
      "2024-08-25 18:10:56,852 - pynekread_field - INFO - Elapsed time: 0.004053261999999336s\n",
      "Field mag_r added to registry and fields directory in pos scal_1\n"
     ]
    }
   ],
   "source": [
    "fld_3d_r.add_field(comm, field_name='mag_r', file_name=fname_out, file_type='fld', file_key='scal_0', dtype=mag.dtype)\n",
    "print(f'Field mag_r added to registry and fields directory in pos {fld_3d_r.registry_pos[\"mag_r\"]}')"
   ]
  },
  {
   "cell_type": "markdown",
   "id": "7d739849",
   "metadata": {},
   "source": [
    "Let's compare the field that we previously wrote with the one we calculated"
   ]
  },
  {
   "cell_type": "code",
   "execution_count": 46,
   "id": "e5b93275",
   "metadata": {},
   "outputs": [
    {
     "name": "stdout",
     "output_type": "stream",
     "text": [
      "True\n"
     ]
    }
   ],
   "source": [
    "eq = np.allclose(fld_3d_r.registry['mag'], fld_3d_r.registry['mag_r'])\n",
    "print(eq)"
   ]
  },
  {
   "cell_type": "markdown",
   "id": "13169bd2",
   "metadata": {},
   "source": [
    "### Some considerations when dealing with the registry\n",
    "\n",
    "In our implementation, each member of the registry is linked to a member of the lists contained in the fields attribute.\n",
    "\n",
    "For the link to be mantained, we must modify the registry in place, not reassing fields to it.\n",
    "\n",
    "If you would like to replace an entry in the field registry, then use the add field method with the same key\n",
    "\n",
    "Lets experiment adding a field full of ones. Based on the order of our operations, we know it is stored in scal 2. You can also check the registry_pos attribute:"
   ]
  },
  {
   "cell_type": "code",
   "execution_count": 47,
   "id": "9d1dc27f",
   "metadata": {},
   "outputs": [
    {
     "name": "stdout",
     "output_type": "stream",
     "text": [
      "scal_2\n",
      "[[1. 1. 1. 1. 1. 1. 1. 1.]\n",
      " [1. 1. 1. 1. 1. 1. 1. 1.]\n",
      " [1. 1. 1. 1. 1. 1. 1. 1.]\n",
      " [1. 1. 1. 1. 1. 1. 1. 1.]\n",
      " [1. 1. 1. 1. 1. 1. 1. 1.]\n",
      " [1. 1. 1. 1. 1. 1. 1. 1.]\n",
      " [1. 1. 1. 1. 1. 1. 1. 1.]\n",
      " [1. 1. 1. 1. 1. 1. 1. 1.]]\n",
      "[[1. 1. 1. 1. 1. 1. 1. 1.]\n",
      " [1. 1. 1. 1. 1. 1. 1. 1.]\n",
      " [1. 1. 1. 1. 1. 1. 1. 1.]\n",
      " [1. 1. 1. 1. 1. 1. 1. 1.]\n",
      " [1. 1. 1. 1. 1. 1. 1. 1.]\n",
      " [1. 1. 1. 1. 1. 1. 1. 1.]\n",
      " [1. 1. 1. 1. 1. 1. 1. 1.]\n",
      " [1. 1. 1. 1. 1. 1. 1. 1.]]\n"
     ]
    }
   ],
   "source": [
    "fld_3d_r.add_field(comm, field_name='ones', field=np.ones_like(mag), dtype=mag.dtype)\n",
    "print(fld_3d_r.registry_pos['ones'])\n",
    "print(fld_3d_r.registry['ones'][100,0,:,:])\n",
    "print(fld_3d_r.fields['scal'][2][100,0,:,:])"
   ]
  },
  {
   "cell_type": "markdown",
   "id": "f977b830",
   "metadata": {},
   "source": [
    "If I modify the registry, the list is modified:"
   ]
  },
  {
   "cell_type": "code",
   "execution_count": 48,
   "id": "8e429126",
   "metadata": {},
   "outputs": [
    {
     "name": "stdout",
     "output_type": "stream",
     "text": [
      "[[2. 2. 2. 2. 2. 2. 2. 2.]\n",
      " [2. 2. 2. 2. 2. 2. 2. 2.]\n",
      " [2. 2. 2. 2. 2. 2. 2. 2.]\n",
      " [2. 2. 2. 2. 2. 2. 2. 2.]\n",
      " [2. 2. 2. 2. 2. 2. 2. 2.]\n",
      " [2. 2. 2. 2. 2. 2. 2. 2.]\n",
      " [2. 2. 2. 2. 2. 2. 2. 2.]\n",
      " [2. 2. 2. 2. 2. 2. 2. 2.]]\n"
     ]
    }
   ],
   "source": [
    "fld_3d_r.registry['ones'][100,0,:,:] = 2.0\n",
    "print(fld_3d_r.fields['scal'][2][100,0,:,:])"
   ]
  },
  {
   "cell_type": "markdown",
   "id": "7e156e89",
   "metadata": {},
   "source": [
    "The same happens in the opposite direction"
   ]
  },
  {
   "cell_type": "code",
   "execution_count": 49,
   "id": "68c91e27",
   "metadata": {},
   "outputs": [
    {
     "name": "stdout",
     "output_type": "stream",
     "text": [
      "[[3. 3. 3. 3. 3. 3. 3. 3.]\n",
      " [3. 3. 3. 3. 3. 3. 3. 3.]\n",
      " [3. 3. 3. 3. 3. 3. 3. 3.]\n",
      " [3. 3. 3. 3. 3. 3. 3. 3.]\n",
      " [3. 3. 3. 3. 3. 3. 3. 3.]\n",
      " [3. 3. 3. 3. 3. 3. 3. 3.]\n",
      " [3. 3. 3. 3. 3. 3. 3. 3.]\n",
      " [3. 3. 3. 3. 3. 3. 3. 3.]]\n"
     ]
    }
   ],
   "source": [
    "fld_3d_r.fields['scal'][2][100,0,:,:] = 3.0\n",
    "print(fld_3d_r.registry['ones'][100,0,:,:])"
   ]
  },
  {
   "cell_type": "markdown",
   "id": "f27b3bca",
   "metadata": {},
   "source": [
    "However if you try to assing a field directly to the registry, you will get an error:\n",
    "\n"
   ]
  },
  {
   "cell_type": "code",
   "execution_count": 50,
   "id": "a4098134",
   "metadata": {},
   "outputs": [
    {
     "name": "stdout",
     "output_type": "stream",
     "text": [
      "\"Key 'ones' already exists. Cannot overwrite existing array without the add field method\"\n"
     ]
    }
   ],
   "source": [
    "zeros = np.zeros_like(mag)\n",
    "\n",
    "try:\n",
    "    fld_3d_r.registry['ones'] = zeros\n",
    "except KeyError as e:\n",
    "    print(e)"
   ]
  },
  {
   "cell_type": "markdown",
   "id": "23fc1730",
   "metadata": {},
   "source": [
    "But see that if you add the field again with the proper method, then it should work as you want"
   ]
  },
  {
   "cell_type": "code",
   "execution_count": 51,
   "id": "8d4e3167",
   "metadata": {},
   "outputs": [
    {
     "name": "stdout",
     "output_type": "stream",
     "text": [
      "2024-08-25 18:10:56,899 - Field - WARNING - Field ones already in registry. Overwriting\n",
      "[[0. 0. 0. 0. 0. 0. 0. 0.]\n",
      " [0. 0. 0. 0. 0. 0. 0. 0.]\n",
      " [0. 0. 0. 0. 0. 0. 0. 0.]\n",
      " [0. 0. 0. 0. 0. 0. 0. 0.]\n",
      " [0. 0. 0. 0. 0. 0. 0. 0.]\n",
      " [0. 0. 0. 0. 0. 0. 0. 0.]\n",
      " [0. 0. 0. 0. 0. 0. 0. 0.]\n",
      " [0. 0. 0. 0. 0. 0. 0. 0.]]\n"
     ]
    }
   ],
   "source": [
    "fld_3d_r.add_field(comm, field_name='ones', field=zeros, dtype=zeros.dtype)\n",
    "print(fld_3d_r.fields['scal'][2][100,0,:,:])"
   ]
  },
  {
   "cell_type": "markdown",
   "id": "53025455",
   "metadata": {},
   "source": [
    "## Inspecting memory usage\n",
    "\n",
    "To inspect the memory usage, one can use the monitoring module"
   ]
  },
  {
   "cell_type": "code",
   "execution_count": 52,
   "id": "60ea6f9f",
   "metadata": {},
   "outputs": [],
   "source": [
    "from pynektools.monitoring.memory_monitor import MemoryMonitor\n",
    "\n",
    "mm = MemoryMonitor()"
   ]
  },
  {
   "cell_type": "markdown",
   "id": "ddf583c3",
   "metadata": {},
   "source": [
    "You can chose to inspect the total memory used, or check the ussage of each attibute."
   ]
  },
  {
   "cell_type": "code",
   "execution_count": 53,
   "id": "cce64836",
   "metadata": {},
   "outputs": [],
   "source": [
    "mm.object_memory_usage(comm, msh_3d, \"mesh_3d\", print_msg=False)\n",
    "mm.object_memory_usage_per_attribute(comm, msh_3d, \"mesh_3d\", print_msg=False)\n",
    "\n",
    "mm.object_memory_usage(comm, coef_3d, \"coef_3d\", print_msg=False)\n",
    "mm.object_memory_usage_per_attribute(comm, coef_3d, \"coef_3d\", print_msg=False)\n",
    "\n",
    "mm.object_memory_usage(comm, fld_3d_r, \"fld_3d\", print_msg=False)\n",
    "mm.object_memory_usage_per_attribute(comm, fld_3d_r, \"fld_3d\", print_msg=False)"
   ]
  },
  {
   "cell_type": "markdown",
   "id": "72ed6b3b",
   "metadata": {},
   "source": [
    "### Report\n",
    "\n",
    "Report the information.\n",
    "\n",
    "Note that for field registry objects, the information of registry and field will appear as duplicate. We have seen howeverm that they point to the sampe places in memory, therefore no need to worry about memory duplication."
   ]
  },
  {
   "cell_type": "code",
   "execution_count": 54,
   "id": "0a6dcde3",
   "metadata": {},
   "outputs": [
    {
     "name": "stdout",
     "output_type": "stream",
     "text": [
      "Rank: 0 - Memory usage of mesh_3d: 25.22057342529297 MB\n",
      "Rank: 0 - Memory usage of mesh_3d attributes:\n",
      "Rank: 0 - Memory usage of mesh_3d attr - coord_hash_to_shared_map: 21.699501037597656 MB\n",
      "Rank: 0 - Memory usage of mesh_3d attr - create_connectivity_bool: 3.0517578125e-05 MB\n",
      "Rank: 0 - Memory usage of mesh_3d attr - gdim: 3.0517578125e-05 MB\n",
      "Rank: 0 - Memory usage of mesh_3d attr - glb_nelv: 4.57763671875e-05 MB\n",
      "Rank: 0 - Memory usage of mesh_3d attr - global_element_number: 0.00469970703125 MB\n",
      "Rank: 0 - Memory usage of mesh_3d attr - lx: 4.57763671875e-05 MB\n",
      "Rank: 0 - Memory usage of mesh_3d attr - lxyz: 4.57763671875e-05 MB\n",
      "Rank: 0 - Memory usage of mesh_3d attr - ly: 4.57763671875e-05 MB\n",
      "Rank: 0 - Memory usage of mesh_3d attr - lz: 4.57763671875e-05 MB\n",
      "Rank: 0 - Memory usage of mesh_3d attr - nelv: 4.57763671875e-05 MB\n",
      "Rank: 0 - Memory usage of mesh_3d attr - offset_el: 4.57763671875e-05 MB\n",
      "Rank: 0 - Memory usage of mesh_3d attr - x: 1.1719970703125 MB\n",
      "Rank: 0 - Memory usage of mesh_3d attr - y: 1.1719970703125 MB\n",
      "Rank: 0 - Memory usage of mesh_3d attr - z: 1.1719970703125 MB\n",
      "===================================\n",
      "Rank: 0 - Memory usage of coef_3d: 26.961204528808594 MB\n",
      "Rank: 0 - Memory usage of coef_3d attributes:\n",
      "Rank: 0 - Memory usage of coef_3d attr - B: 1.1719970703125 MB\n",
      "Rank: 0 - Memory usage of coef_3d attr - apply_1d_operators: 3.0517578125e-05 MB\n",
      "Rank: 0 - Memory usage of coef_3d attr - area: 0.8790283203125 MB\n",
      "Rank: 0 - Memory usage of coef_3d attr - dn: 0.0003662109375 MB\n",
      "Rank: 0 - Memory usage of coef_3d attr - dr: 0.0003662109375 MB\n",
      "Rank: 0 - Memory usage of coef_3d attr - drdx: 1.1719970703125 MB\n",
      "Rank: 0 - Memory usage of coef_3d attr - drdy: 1.1719970703125 MB\n",
      "Rank: 0 - Memory usage of coef_3d attr - drdz: 1.1719970703125 MB\n",
      "Rank: 0 - Memory usage of coef_3d attr - ds: 0.0003662109375 MB\n",
      "Rank: 0 - Memory usage of coef_3d attr - dsdx: 1.1719970703125 MB\n",
      "Rank: 0 - Memory usage of coef_3d attr - dsdy: 1.1719970703125 MB\n",
      "Rank: 0 - Memory usage of coef_3d attr - dsdz: 1.1719970703125 MB\n",
      "Rank: 0 - Memory usage of coef_3d attr - dt: 0.0003662109375 MB\n",
      "Rank: 0 - Memory usage of coef_3d attr - dtdx: 1.1719970703125 MB\n",
      "Rank: 0 - Memory usage of coef_3d attr - dtdy: 1.1719970703125 MB\n",
      "Rank: 0 - Memory usage of coef_3d attr - dtdz: 1.1719970703125 MB\n",
      "Rank: 0 - Memory usage of coef_3d attr - dtype: 0.00011444091796875 MB\n",
      "Rank: 0 - Memory usage of coef_3d attr - dxdr: 1.1719970703125 MB\n",
      "Rank: 0 - Memory usage of coef_3d attr - dxds: 1.1719970703125 MB\n",
      "Rank: 0 - Memory usage of coef_3d attr - dxdt: 1.1719970703125 MB\n",
      "Rank: 0 - Memory usage of coef_3d attr - dydr: 1.1719970703125 MB\n",
      "Rank: 0 - Memory usage of coef_3d attr - dyds: 1.1719970703125 MB\n",
      "Rank: 0 - Memory usage of coef_3d attr - dydt: 1.1719970703125 MB\n",
      "Rank: 0 - Memory usage of coef_3d attr - dzdr: 1.1719970703125 MB\n",
      "Rank: 0 - Memory usage of coef_3d attr - dzds: 1.1719970703125 MB\n",
      "Rank: 0 - Memory usage of coef_3d attr - dzdt: 1.1719970703125 MB\n",
      "Rank: 0 - Memory usage of coef_3d attr - gdim: 3.0517578125e-05 MB\n",
      "Rank: 0 - Memory usage of coef_3d attr - jac: 1.1719970703125 MB\n",
      "Rank: 0 - Memory usage of coef_3d attr - nx: 0.8790283203125 MB\n",
      "Rank: 0 - Memory usage of coef_3d attr - ny: 0.8790283203125 MB\n",
      "Rank: 0 - Memory usage of coef_3d attr - nz: 0.8790283203125 MB\n",
      "Rank: 0 - Memory usage of coef_3d attr - v: 0.0003662109375 MB\n",
      "Rank: 0 - Memory usage of coef_3d attr - vinv: 0.0003662109375 MB\n",
      "Rank: 0 - Memory usage of coef_3d attr - w: 0.0003509521484375 MB\n",
      "Rank: 0 - Memory usage of coef_3d attr - w3: 0.0020751953125 MB\n",
      "Rank: 0 - Memory usage of coef_3d attr - x: 0.0003509521484375 MB\n",
      "===================================\n",
      "Rank: 0 - Memory usage of fld_3d: 18.7548828125 MB\n",
      "Rank: 0 - Memory usage of fld_3d attributes:\n",
      "Rank: 0 - Memory usage of fld_3d attr - fields: 9.376640319824219 MB\n",
      "Rank: 0 - Memory usage of fld_3d attr - pres_fields: 3.0517578125e-05 MB\n",
      "Rank: 0 - Memory usage of fld_3d attr - registry: 9.376655578613281 MB\n",
      "Rank: 0 - Memory usage of fld_3d attr - registry_pos: 0.00119781494140625 MB\n",
      "Rank: 0 - Memory usage of fld_3d attr - scal_fields: 3.0517578125e-05 MB\n",
      "Rank: 0 - Memory usage of fld_3d attr - scal_fields_names: 0.000244140625 MB\n",
      "Rank: 0 - Memory usage of fld_3d attr - t: 2.288818359375e-05 MB\n",
      "Rank: 0 - Memory usage of fld_3d attr - temp_fields: 3.0517578125e-05 MB\n",
      "Rank: 0 - Memory usage of fld_3d attr - vel_fields: 3.0517578125e-05 MB\n",
      "===================================\n"
     ]
    }
   ],
   "source": [
    "if comm.Get_rank() == 0:\n",
    "    for key in mm.object_report.keys():\n",
    "        mm.report_object_information(comm, key)\n",
    "        print('===================================')\n"
   ]
  }
 ],
 "metadata": {
  "kernelspec": {
   "display_name": "Python 3 (ipykernel)",
   "language": "python",
   "name": "python3"
  },
  "language_info": {
   "codemirror_mode": {
    "name": "ipython",
    "version": 3
   },
   "file_extension": ".py",
   "mimetype": "text/x-python",
   "name": "python",
   "nbconvert_exporter": "python",
   "pygments_lexer": "ipython3",
   "version": "3.10.14"
  }
 },
 "nbformat": 4,
 "nbformat_minor": 5
}
